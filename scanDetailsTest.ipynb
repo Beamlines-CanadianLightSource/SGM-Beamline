{
 "cells": [
  {
   "cell_type": "code",
   "execution_count": 1,
   "metadata": {
    "collapsed": true
   },
   "outputs": [],
   "source": [
    "from scan_details import *"
   ]
  },
  {
   "cell_type": "markdown",
   "metadata": {},
   "source": [
    "## Test checkFileType method"
   ]
  },
  {
   "cell_type": "code",
   "execution_count": 2,
   "metadata": {
    "collapsed": false
   },
   "outputs": [
    {
     "name": "stdout",
     "output_type": "stream",
     "text": [
      "C:\\Users\\hanr\\Desktop\\PyScripts\\mapspeedtest1.dat\n"
     ]
    }
   ],
   "source": [
    "fileDirectory_1 = 'C:\\Users\\hanr\\Desktop\\PyScripts\\mapspeedtest1.dat'\n",
    "print fileDirectory_1"
   ]
  },
  {
   "cell_type": "code",
   "execution_count": 3,
   "metadata": {
    "collapsed": false
   },
   "outputs": [
    {
     "data": {
      "text/plain": [
       "'This is a map data file.'"
      ]
     },
     "execution_count": 3,
     "metadata": {},
     "output_type": "execute_result"
    }
   ],
   "source": [
    "checkFileType(fileDirectory_1)"
   ]
  },
  {
   "cell_type": "code",
   "execution_count": 4,
   "metadata": {
    "collapsed": false
   },
   "outputs": [
    {
     "name": "stdout",
     "output_type": "stream",
     "text": [
      "C:/Users/hanr/Desktop/PyScripts/resolutiontest.dat\n"
     ]
    }
   ],
   "source": [
    "fileDirectory_2 = 'C:/Users/hanr/Desktop/PyScripts/resolutiontest.dat'\n",
    "print fileDirectory_2"
   ]
  },
  {
   "cell_type": "code",
   "execution_count": 5,
   "metadata": {
    "collapsed": false
   },
   "outputs": [
    {
     "data": {
      "text/plain": [
       "'This is a map data file.'"
      ]
     },
     "execution_count": 5,
     "metadata": {},
     "output_type": "execute_result"
    }
   ],
   "source": [
    "checkFileType(fileDirectory_2)"
   ]
  },
  {
   "cell_type": "code",
   "execution_count": 6,
   "metadata": {
    "collapsed": false
   },
   "outputs": [
    {
     "name": "stdout",
     "output_type": "stream",
     "text": [
      "C:/Users/hanr/Desktop/PyScripts/yongfeng.dat\n"
     ]
    }
   ],
   "source": [
    "fileDirectory_3 = 'C:/Users/hanr/Desktop/PyScripts/yongfeng.dat'\n",
    "print fileDirectory_3"
   ]
  },
  {
   "cell_type": "code",
   "execution_count": 7,
   "metadata": {
    "collapsed": false
   },
   "outputs": [
    {
     "data": {
      "text/plain": [
       "'This is the data file of spectra.'"
      ]
     },
     "execution_count": 7,
     "metadata": {},
     "output_type": "execute_result"
    }
   ],
   "source": [
    "checkFileType(fileDirectory_3)"
   ]
  },
  {
   "cell_type": "markdown",
   "metadata": {
    "collapsed": true
   },
   "source": [
    "## Test getBasicScanDetails method"
   ]
  },
  {
   "cell_type": "code",
   "execution_count": 8,
   "metadata": {
    "collapsed": false
   },
   "outputs": [
    {
     "name": "stdout",
     "output_type": "stream",
     "text": [
      "Scan: 1    labels:  [u'Hex_XP', u'Hex_YP', u'H', u'K', u'L', u'Epoch', u'Diode', u'TEY', u'I0', u'SDD1_OCR', u'SDD1_ICR', u'SDD2_OCR', u'SDD2_ICR', u'SDD3_OCR', u'SDD3_ICR', u'SDD4_OCR', u'SDD4_ICR', u'GratingUp', u'GratingDown', u'Timer', u'Clock', u'Clock']     The Command is:  cmesh hex_xp 0 3.5 5 hex_yp 3 1.5 40 0     DateTime:  Tue Apr 26 22:56:40 2016\n",
      "\n",
      "Scan: 1.2    labels:  [u'Hex_XP', u'Hex_YP', u'H', u'K', u'L', u'Epoch', u'Diode', u'TEY', u'I0', u'SDD1_OCR', u'SDD1_ICR', u'SDD2_OCR', u'SDD2_ICR', u'SDD3_OCR', u'SDD3_ICR', u'SDD4_OCR', u'SDD4_ICR', u'GratingUp', u'GratingDown', u'Timer', u'Clock', u'Clock']     The Command is:  cmesh hex_xp 0 3.5 5 hex_yp 3 1.5 40 0     DateTime:  Tue Apr 26 22:57:24 2016\n",
      "\n",
      "Scan: 1.3    labels:  [u'Hex_XP', u'Hex_YP', u'H', u'K', u'L', u'Epoch', u'Diode', u'TEY', u'I0', u'SDD1_OCR', u'SDD1_ICR', u'SDD2_OCR', u'SDD2_ICR', u'SDD3_OCR', u'SDD3_ICR', u'SDD4_OCR', u'SDD4_ICR', u'GratingUp', u'GratingDown', u'Timer', u'Clock', u'Clock']     The Command is:  cmesh hex_xp 0 3.5 5 hex_yp 3 1.5 40 0     DateTime:  Tue Apr 26 22:57:53 2016\n",
      "\n",
      "Scan: 2    labels:  [u'Hex_XP', u'Hex_YP', u'H', u'K', u'L', u'Epoch', u'Diode', u'TEY', u'I0', u'SDD1_OCR', u'SDD1_ICR', u'SDD2_OCR', u'SDD2_ICR', u'SDD3_OCR', u'SDD3_ICR', u'SDD4_OCR', u'SDD4_ICR', u'GratingUp', u'GratingDown', u'Timer', u'Clock', u'Clock']     The Command is:  cmesh hex_xp 0 3.5 10 hex_yp 3 1.5 40 0     DateTime:  Tue Apr 26 23:02:48 2016\n",
      "\n",
      "Scan: 3    labels:  [u'Hex_XP', u'Hex_YP', u'H', u'K', u'L', u'Epoch', u'Diode', u'TEY', u'I0', u'SDD1_OCR', u'SDD1_ICR', u'SDD2_OCR', u'SDD2_ICR', u'SDD3_OCR', u'SDD3_ICR', u'SDD4_OCR', u'SDD4_ICR', u'GratingUp', u'GratingDown', u'Timer', u'Clock', u'Clock']     The Command is:  cmesh hex_xp 0 3.5 20 hex_yp 3 1.5 40 0     DateTime:  Tue Apr 26 23:11:09 2016\n",
      "\n",
      "Scan: 4    labels:  [u'Hex_XP', u'Hex_YP', u'H', u'K', u'L', u'Epoch', u'Diode', u'TEY', u'I0', u'SDD1_OCR', u'SDD1_ICR', u'SDD2_OCR', u'SDD2_ICR', u'SDD3_OCR', u'SDD3_ICR', u'SDD4_OCR', u'SDD4_ICR', u'GratingUp', u'GratingDown', u'Timer', u'Clock', u'Clock']     The Command is:  cmesh hex_xp 0 3.5 40 hex_yp 3 1.5 40 0     DateTime:  Tue Apr 26 23:26:17 2016\n",
      "\n",
      "Scan: 5    labels:  [u'Hex_XP', u'Hex_YP', u'H', u'K', u'L', u'Epoch', u'Diode', u'TEY', u'I0', u'SDD1_OCR', u'SDD1_ICR', u'SDD2_OCR', u'SDD2_ICR', u'SDD3_OCR', u'SDD3_ICR', u'SDD4_OCR', u'SDD4_ICR', u'GratingUp', u'GratingDown', u'Timer', u'Clock', u'Clock']     The Command is:  cmesh hex_xp 0 3.5 80 hex_yp 3 1.5 40 0     DateTime:  Tue Apr 26 23:55:04 2016\n",
      "\n",
      "Scan: 6    labels:  [u'Hex_XP', u'Hex_YP', u'H', u'K', u'L', u'Epoch', u'Diode', u'TEY', u'I0', u'SDD1_OCR', u'SDD1_ICR', u'SDD2_OCR', u'SDD2_ICR', u'SDD3_OCR', u'SDD3_ICR', u'SDD4_OCR', u'SDD4_ICR', u'GratingUp', u'GratingDown', u'Timer', u'Clock', u'Clock']     The Command is:  mesh hex_xp 0 3.5 100 hex_yp 3 1.5 100 0.1     DateTime:  Wed Apr 27 00:51:12 2016\n",
      "\n"
     ]
    }
   ],
   "source": [
    "getBasicScanDetails(fileDirectory_1)"
   ]
  },
  {
   "cell_type": "code",
   "execution_count": 9,
   "metadata": {
    "collapsed": false
   },
   "outputs": [
    {
     "name": "stdout",
     "output_type": "stream",
     "text": [
      "Scan: 1    labels:  [u'Energy', u'H', u'K', u'L', u'Epoch', u'Diode', u'TEY', u'I0', u'SDD1_OCR', u'SDD1_ICR', u'SDD2_OCR', u'SDD2_ICR', u'SDD3_OCR', u'SDD3_ICR', u'SDD4_OCR', u'SDD4_ICR', u'GratingUp', u'GratingDown', u'Timer', u'Clock', u'Clock']     The Command is:  cscan en 690 750 60 0     DateTime:  Sun May 01 16:02:53 2016\n",
      "\n",
      "Scan: 2    labels:  [u'Energy', u'H', u'K', u'L', u'Epoch', u'Diode', u'TEY', u'I0', u'SDD1_OCR', u'SDD1_ICR', u'SDD2_OCR', u'SDD2_ICR', u'SDD3_OCR', u'SDD3_ICR', u'SDD4_OCR', u'SDD4_ICR', u'GratingUp', u'GratingDown', u'Timer', u'Clock', u'Clock']     The Command is:  cscan en 690 750 60 0     DateTime:  Sun May 01 16:05:35 2016\n",
      "\n",
      "Scan: 3    labels:  [u'Energy', u'H', u'K', u'L', u'Epoch', u'Diode', u'TEY', u'I0', u'SDD1_OCR', u'SDD1_ICR', u'SDD2_OCR', u'SDD2_ICR', u'SDD3_OCR', u'SDD3_ICR', u'SDD4_OCR', u'SDD4_ICR', u'GratingUp', u'GratingDown', u'Timer', u'Clock', u'Clock']     The Command is:  cscan en 690 750 60 0     DateTime:  Sun May 01 16:07:04 2016\n",
      "\n",
      "Scan: 4    labels:  [u'Energy', u'H', u'K', u'L', u'Epoch', u'Diode', u'TEY', u'I0', u'SDD1_OCR', u'SDD1_ICR', u'SDD2_OCR', u'SDD2_ICR', u'SDD3_OCR', u'SDD3_ICR', u'SDD4_OCR', u'SDD4_ICR', u'GratingUp', u'GratingDown', u'Timer', u'Clock', u'Clock']     The Command is:  cscan en 690 750 60 0     DateTime:  Sun May 01 16:08:25 2016\n",
      "\n",
      "Scan: 5    labels:  [u'Energy', u'H', u'K', u'L', u'Epoch', u'Diode', u'TEY', u'I0', u'SDD1_OCR', u'SDD1_ICR', u'SDD2_OCR', u'SDD2_ICR', u'SDD3_OCR', u'SDD3_ICR', u'SDD4_OCR', u'SDD4_ICR', u'GratingUp', u'GratingDown', u'Timer', u'Clock', u'Clock']     The Command is:  cscan en 690 750 60 0     DateTime:  Sun May 01 16:09:52 2016\n",
      "\n",
      "Scan: 6    labels:  [u'Energy', u'H', u'K', u'L', u'Epoch', u'Diode', u'TEY', u'I0', u'SDD1_OCR', u'SDD1_ICR', u'SDD2_OCR', u'SDD2_ICR', u'SDD3_OCR', u'SDD3_ICR', u'SDD4_OCR', u'SDD4_ICR', u'GratingUp', u'GratingDown', u'Timer', u'Clock', u'Clock']     The Command is:  cscan en 690 750 60 0     DateTime:  Sun May 01 16:11:16 2016\n",
      "\n",
      "Scan: 7    labels:  [u'Energy', u'H', u'K', u'L', u'Epoch', u'Diode', u'TEY', u'I0', u'SDD1_OCR', u'SDD1_ICR', u'SDD2_OCR', u'SDD2_ICR', u'SDD3_OCR', u'SDD3_ICR', u'SDD4_OCR', u'SDD4_ICR', u'GratingUp', u'GratingDown', u'Timer', u'Clock', u'Clock']     The Command is:  cscan en 690 750 60 0     DateTime:  Sun May 01 16:12:41 2016\n",
      "\n",
      "Scan: 8    labels:  [u'Energy', u'H', u'K', u'L', u'Epoch', u'Diode', u'TEY', u'I0', u'SDD1_OCR', u'SDD1_ICR', u'SDD2_OCR', u'SDD2_ICR', u'SDD3_OCR', u'SDD3_ICR', u'SDD4_OCR', u'SDD4_ICR', u'GratingUp', u'GratingDown', u'Timer', u'Clock', u'Clock']     The Command is:  cscan en 690 750 60 0     DateTime:  Sun May 01 16:14:02 2016\n",
      "\n",
      "Scan: 9    labels:  [u'Energy', u'H', u'K', u'L', u'Epoch', u'Diode', u'TEY', u'I0', u'SDD1_OCR', u'SDD1_ICR', u'SDD2_OCR', u'SDD2_ICR', u'SDD3_OCR', u'SDD3_ICR', u'SDD4_OCR', u'SDD4_ICR', u'GratingUp', u'GratingDown', u'Timer', u'Clock', u'Clock']     The Command is:  cscan en 690 750 60 0     DateTime:  Sun May 01 16:15:22 2016\n",
      "\n",
      "Scan: 10    labels:  [u'Energy', u'H', u'K', u'L', u'Epoch', u'Diode', u'TEY', u'I0', u'SDD1_OCR', u'SDD1_ICR', u'SDD2_OCR', u'SDD2_ICR', u'SDD3_OCR', u'SDD3_ICR', u'SDD4_OCR', u'SDD4_ICR', u'GratingUp', u'GratingDown', u'Timer', u'Clock', u'Clock']     The Command is:  cscan en 690 750 60 0     DateTime:  Sun May 01 16:16:43 2016\n",
      "\n",
      "Scan: 11    labels:  [u'Energy', u'H', u'K', u'L', u'Epoch', u'Diode', u'TEY', u'I0', u'SDD1_OCR', u'SDD1_ICR', u'SDD2_OCR', u'SDD2_ICR', u'SDD3_OCR', u'SDD3_ICR', u'SDD4_OCR', u'SDD4_ICR', u'GratingUp', u'GratingDown', u'Timer', u'Clock', u'Clock']     The Command is:  cscan en 690 750 60 0     DateTime:  Sun May 01 16:29:34 2016\n",
      "\n",
      "Scan: 12    labels:  [u'Energy', u'H', u'K', u'L', u'Epoch', u'Diode', u'TEY', u'I0', u'SDD1_OCR', u'SDD1_ICR', u'SDD2_OCR', u'SDD2_ICR', u'SDD3_OCR', u'SDD3_ICR', u'SDD4_OCR', u'SDD4_ICR', u'GratingUp', u'GratingDown', u'Timer', u'Clock', u'Clock']     The Command is:  cscan en 690 750 60 0     DateTime:  Sun May 01 16:31:46 2016\n",
      "\n",
      "Scan: 13    labels:  [u'Energy', u'H', u'K', u'L', u'Epoch', u'Diode', u'TEY', u'I0', u'SDD1_OCR', u'SDD1_ICR', u'SDD2_OCR', u'SDD2_ICR', u'SDD3_OCR', u'SDD3_ICR', u'SDD4_OCR', u'SDD4_ICR', u'GratingUp', u'GratingDown', u'Timer', u'Clock', u'Clock']     The Command is:  cscan en 690 750 60 0     DateTime:  Sun May 01 16:33:28 2016\n",
      "\n",
      "Scan: 14    labels:  [u'Energy', u'H', u'K', u'L', u'Epoch', u'Diode', u'TEY', u'I0', u'SDD1_OCR', u'SDD1_ICR', u'SDD2_OCR', u'SDD2_ICR', u'SDD3_OCR', u'SDD3_ICR', u'SDD4_OCR', u'SDD4_ICR', u'GratingUp', u'GratingDown', u'Timer', u'Clock', u'Clock']     The Command is:  cscan en 690 750 60 0     DateTime:  Sun May 01 16:34:52 2016\n",
      "\n",
      "Scan: 15    labels:  [u'Energy', u'H', u'K', u'L', u'Epoch', u'Diode', u'TEY', u'I0', u'SDD1_OCR', u'SDD1_ICR', u'SDD2_OCR', u'SDD2_ICR', u'SDD3_OCR', u'SDD3_ICR', u'SDD4_OCR', u'SDD4_ICR', u'GratingUp', u'GratingDown', u'Timer', u'Clock', u'Clock']     The Command is:  cscan en 690 750 60 0     DateTime:  Sun May 01 16:36:12 2016\n",
      "\n",
      "Scan: 16    labels:  [u'Energy', u'H', u'K', u'L', u'Epoch', u'Diode', u'TEY', u'I0', u'SDD1_OCR', u'SDD1_ICR', u'SDD2_OCR', u'SDD2_ICR', u'SDD3_OCR', u'SDD3_ICR', u'SDD4_OCR', u'SDD4_ICR', u'GratingUp', u'GratingDown', u'Timer', u'Clock', u'Clock']     The Command is:  cscan en 690 750 60 0     DateTime:  Sun May 01 16:37:51 2016\n",
      "\n",
      "Scan: 17    labels:  [u'Energy', u'H', u'K', u'L', u'Epoch', u'Diode', u'TEY', u'I0', u'SDD1_OCR', u'SDD1_ICR', u'SDD2_OCR', u'SDD2_ICR', u'SDD3_OCR', u'SDD3_ICR', u'SDD4_OCR', u'SDD4_ICR', u'GratingUp', u'GratingDown', u'Timer', u'Clock', u'Clock']     The Command is:  cscan en 690 750 60 0     DateTime:  Sun May 01 16:39:25 2016\n",
      "\n",
      "Scan: 18    labels:  [u'Energy', u'H', u'K', u'L', u'Epoch', u'Diode', u'TEY', u'I0', u'SDD1_OCR', u'SDD1_ICR', u'SDD2_OCR', u'SDD2_ICR', u'SDD3_OCR', u'SDD3_ICR', u'SDD4_OCR', u'SDD4_ICR', u'GratingUp', u'GratingDown', u'Timer', u'Clock', u'Clock']     The Command is:  cscan en 690 750 60 0     DateTime:  Sun May 01 16:40:44 2016\n",
      "\n",
      "Scan: 19    labels:  [u'Energy', u'H', u'K', u'L', u'Epoch', u'Diode', u'TEY', u'I0', u'SDD1_OCR', u'SDD1_ICR', u'SDD2_OCR', u'SDD2_ICR', u'SDD3_OCR', u'SDD3_ICR', u'SDD4_OCR', u'SDD4_ICR', u'GratingUp', u'GratingDown', u'Timer', u'Clock', u'Clock']     The Command is:  cscan en 690 750 60 0     DateTime:  Sun May 01 16:42:14 2016\n",
      "\n",
      "Scan: 20    labels:  [u'Energy', u'H', u'K', u'L', u'Epoch', u'Diode', u'TEY', u'I0', u'SDD1_OCR', u'SDD1_ICR', u'SDD2_OCR', u'SDD2_ICR', u'SDD3_OCR', u'SDD3_ICR', u'SDD4_OCR', u'SDD4_ICR', u'GratingUp', u'GratingDown', u'Timer', u'Clock', u'Clock']     The Command is:  cscan en 690 750 60 0     DateTime:  Sun May 01 16:43:44 2016\n",
      "\n",
      "Scan: 21    labels:  [u'Energy', u'H', u'K', u'L', u'Epoch', u'Diode', u'TEY', u'I0', u'SDD1_OCR', u'SDD1_ICR', u'SDD2_OCR', u'SDD2_ICR', u'SDD3_OCR', u'SDD3_ICR', u'SDD4_OCR', u'SDD4_ICR', u'GratingUp', u'GratingDown', u'Timer', u'Clock', u'Clock']     The Command is:  cscan en 690 750 60 0     DateTime:  Sun May 01 16:45:47 2016\n",
      "\n",
      "Scan: 22    labels:  [u'Energy', u'H', u'K', u'L', u'Epoch', u'Diode', u'TEY', u'I0', u'SDD1_OCR', u'SDD1_ICR', u'SDD2_OCR', u'SDD2_ICR', u'SDD3_OCR', u'SDD3_ICR', u'SDD4_OCR', u'SDD4_ICR', u'GratingUp', u'GratingDown', u'Timer', u'Clock', u'Clock']     The Command is:  cscan en 690 750 60 0     DateTime:  Sun May 01 16:53:32 2016\n",
      "\n",
      "Scan: 23    labels:  [u'Energy', u'H', u'K', u'L', u'Epoch', u'Diode', u'TEY', u'I0', u'SDD1_OCR', u'SDD1_ICR', u'SDD2_OCR', u'SDD2_ICR', u'SDD3_OCR', u'SDD3_ICR', u'SDD4_OCR', u'SDD4_ICR', u'GratingUp', u'GratingDown', u'Timer', u'Clock', u'Clock']     The Command is:  cscan en 690 750 60 0     DateTime:  Sun May 01 16:59:14 2016\n",
      "\n",
      "Scan: 24    labels:  [u'Energy', u'H', u'K', u'L', u'Epoch', u'Diode', u'TEY', u'I0', u'SDD1_OCR', u'SDD1_ICR', u'SDD2_OCR', u'SDD2_ICR', u'SDD3_OCR', u'SDD3_ICR', u'SDD4_OCR', u'SDD4_ICR', u'GratingUp', u'GratingDown', u'Timer', u'Clock', u'Clock']     The Command is:  cscan en 690 750 60 0     DateTime:  Sun May 01 17:00:53 2016\n",
      "\n",
      "Scan: 25    labels:  [u'Energy', u'H', u'K', u'L', u'Epoch', u'Diode', u'TEY', u'I0', u'SDD1_OCR', u'SDD1_ICR', u'SDD2_OCR', u'SDD2_ICR', u'SDD3_OCR', u'SDD3_ICR', u'SDD4_OCR', u'SDD4_ICR', u'GratingUp', u'GratingDown', u'Timer', u'Clock', u'Clock']     The Command is:  cscan en 690 750 60 0     DateTime:  Sun May 01 17:02:15 2016\n",
      "\n",
      "Scan: 26    labels:  [u'Energy', u'H', u'K', u'L', u'Epoch', u'Diode', u'TEY', u'I0', u'SDD1_OCR', u'SDD1_ICR', u'SDD2_OCR', u'SDD2_ICR', u'SDD3_OCR', u'SDD3_ICR', u'SDD4_OCR', u'SDD4_ICR', u'GratingUp', u'GratingDown', u'Timer', u'Clock', u'Clock']     The Command is:  cscan en 690 750 60 0     DateTime:  Sun May 01 17:03:40 2016\n",
      "\n",
      "Scan: 27    labels:  [u'Energy', u'H', u'K', u'L', u'Epoch', u'Diode', u'TEY', u'I0', u'SDD1_OCR', u'SDD1_ICR', u'SDD2_OCR', u'SDD2_ICR', u'SDD3_OCR', u'SDD3_ICR', u'SDD4_OCR', u'SDD4_ICR', u'GratingUp', u'GratingDown', u'Timer', u'Clock', u'Clock']     The Command is:  cscan en 690 750 60 0     DateTime:  Sun May 01 17:05:18 2016\n",
      "\n",
      "Scan: 28    labels:  [u'Energy', u'H', u'K', u'L', u'Epoch', u'Diode', u'TEY', u'I0', u'SDD1_OCR', u'SDD1_ICR', u'SDD2_OCR', u'SDD2_ICR', u'SDD3_OCR', u'SDD3_ICR', u'SDD4_OCR', u'SDD4_ICR', u'GratingUp', u'GratingDown', u'Timer', u'Clock', u'Clock']     The Command is:  cscan en 690 750 60 0     DateTime:  Sun May 01 17:06:39 2016\n",
      "\n",
      "Scan: 29    labels:  [u'Energy', u'H', u'K', u'L', u'Epoch', u'Diode', u'TEY', u'I0', u'SDD1_OCR', u'SDD1_ICR', u'SDD2_OCR', u'SDD2_ICR', u'SDD3_OCR', u'SDD3_ICR', u'SDD4_OCR', u'SDD4_ICR', u'GratingUp', u'GratingDown', u'Timer', u'Clock', u'Clock']     The Command is:  cscan en 690 750 60 0     DateTime:  Sun May 01 17:08:26 2016\n",
      "\n",
      "Scan: 30    labels:  [u'Energy', u'H', u'K', u'L', u'Epoch', u'Diode', u'TEY', u'I0', u'SDD1_OCR', u'SDD1_ICR', u'SDD2_OCR', u'SDD2_ICR', u'SDD3_OCR', u'SDD3_ICR', u'SDD4_OCR', u'SDD4_ICR', u'GratingUp', u'GratingDown', u'Timer', u'Clock', u'Clock']     The Command is:  cscan en 690 750 60 0     DateTime:  Sun May 01 17:09:57 2016\n",
      "\n",
      "Scan: 31    labels:  [u'Energy', u'H', u'K', u'L', u'Epoch', u'Diode', u'TEY', u'I0', u'SDD1_OCR', u'SDD1_ICR', u'SDD2_OCR', u'SDD2_ICR', u'SDD3_OCR', u'SDD3_ICR', u'SDD4_OCR', u'SDD4_ICR', u'GratingUp', u'GratingDown', u'Timer', u'Clock', u'Clock']     The Command is:  cscan en 690 750 60 0     DateTime:  Sun May 01 17:11:18 2016\n",
      "\n",
      "Scan: 32    labels:  [u'Energy', u'H', u'K', u'L', u'Epoch', u'Diode', u'TEY', u'I0', u'SDD1_OCR', u'SDD1_ICR', u'SDD2_OCR', u'SDD2_ICR', u'SDD3_OCR', u'SDD3_ICR', u'SDD4_OCR', u'SDD4_ICR', u'GratingUp', u'GratingDown', u'Timer', u'Clock', u'Clock']     The Command is:  cscan en 690 750 60 0     DateTime:  Sun May 01 17:15:58 2016\n",
      "\n",
      "Scan: 33    labels:  [u'Energy', u'H', u'K', u'L', u'Epoch', u'Diode', u'TEY', u'I0', u'SDD1_OCR', u'SDD1_ICR', u'SDD2_OCR', u'SDD2_ICR', u'SDD3_OCR', u'SDD3_ICR', u'SDD4_OCR', u'SDD4_ICR', u'GratingUp', u'GratingDown', u'Timer', u'Clock', u'Clock']     The Command is:  cscan en 690 750 60 0     DateTime:  Sun May 01 17:17:41 2016\n",
      "\n",
      "Scan: 34    labels:  [u'Energy', u'H', u'K', u'L', u'Epoch', u'Diode', u'TEY', u'I0', u'SDD1_OCR', u'SDD1_ICR', u'SDD2_OCR', u'SDD2_ICR', u'SDD3_OCR', u'SDD3_ICR', u'SDD4_OCR', u'SDD4_ICR', u'GratingUp', u'GratingDown', u'Timer', u'Clock', u'Clock']     The Command is:  cscan en 690 750 60 0     DateTime:  Sun May 01 17:20:11 2016\n",
      "\n",
      "Scan: 35    labels:  [u'Energy', u'H', u'K', u'L', u'Epoch', u'Diode', u'TEY', u'I0', u'SDD1_OCR', u'SDD1_ICR', u'SDD2_OCR', u'SDD2_ICR', u'SDD3_OCR', u'SDD3_ICR', u'SDD4_OCR', u'SDD4_ICR', u'GratingUp', u'GratingDown', u'Timer', u'Clock', u'Clock']     The Command is:  cscan en 690 750 60 0     DateTime:  Sun May 01 17:21:46 2016\n",
      "\n",
      "Scan: 36    labels:  [u'Energy', u'H', u'K', u'L', u'Epoch', u'Diode', u'TEY', u'I0', u'SDD1_OCR', u'SDD1_ICR', u'SDD2_OCR', u'SDD2_ICR', u'SDD3_OCR', u'SDD3_ICR', u'SDD4_OCR', u'SDD4_ICR', u'GratingUp', u'GratingDown', u'Timer', u'Clock', u'Clock']     The Command is:  cscan en 690 750 60 0     DateTime:  Sun May 01 17:23:10 2016\n",
      "\n",
      "Scan: 37    labels:  [u'Energy', u'H', u'K', u'L', u'Epoch', u'Diode', u'TEY', u'I0', u'SDD1_OCR', u'SDD1_ICR', u'SDD2_OCR', u'SDD2_ICR', u'SDD3_OCR', u'SDD3_ICR', u'SDD4_OCR', u'SDD4_ICR', u'GratingUp', u'GratingDown', u'Timer', u'Clock', u'Clock']     The Command is:  cscan en 690 750 60 0     DateTime:  Sun May 01 17:24:54 2016\n",
      "\n",
      "Scan: 38    labels:  [u'Energy', u'H', u'K', u'L', u'Epoch', u'Diode', u'TEY', u'I0', u'SDD1_OCR', u'SDD1_ICR', u'SDD2_OCR', u'SDD2_ICR', u'SDD3_OCR', u'SDD3_ICR', u'SDD4_OCR', u'SDD4_ICR', u'GratingUp', u'GratingDown', u'Timer', u'Clock', u'Clock']     The Command is:  cscan en 690 750 60 0     DateTime:  Sun May 01 17:26:18 2016\n",
      "\n",
      "Scan: 39    labels:  [u'Energy', u'H', u'K', u'L', u'Epoch', u'Diode', u'TEY', u'I0', u'SDD1_OCR', u'SDD1_ICR', u'SDD2_OCR', u'SDD2_ICR', u'SDD3_OCR', u'SDD3_ICR', u'SDD4_OCR', u'SDD4_ICR', u'GratingUp', u'GratingDown', u'Timer', u'Clock', u'Clock']     The Command is:  cscan en 690 750 60 0     DateTime:  Sun May 01 17:28:09 2016\n",
      "\n",
      "Scan: 40    labels:  [u'Energy', u'H', u'K', u'L', u'Epoch', u'Diode', u'TEY', u'I0', u'SDD1_OCR', u'SDD1_ICR', u'SDD2_OCR', u'SDD2_ICR', u'SDD3_OCR', u'SDD3_ICR', u'SDD4_OCR', u'SDD4_ICR', u'GratingUp', u'GratingDown', u'Timer', u'Clock', u'Clock']     The Command is:  cscan en 690 750 60 0     DateTime:  Sun May 01 17:29:31 2016\n",
      "\n",
      "Scan: 41    labels:  [u'Energy', u'H', u'K', u'L', u'Epoch', u'Diode', u'TEY', u'I0', u'SDD1_OCR', u'SDD1_ICR', u'SDD2_OCR', u'SDD2_ICR', u'SDD3_OCR', u'SDD3_ICR', u'SDD4_OCR', u'SDD4_ICR', u'GratingUp', u'GratingDown', u'Timer', u'Clock', u'Clock']     The Command is:  cscan en 690 750 60 0     DateTime:  Sun May 01 17:30:53 2016\n",
      "\n",
      "Scan: 42    labels:  [u'Energy', u'H', u'K', u'L', u'Epoch', u'Diode', u'TEY', u'I0', u'SDD1_OCR', u'SDD1_ICR', u'SDD2_OCR', u'SDD2_ICR', u'SDD3_OCR', u'SDD3_ICR', u'SDD4_OCR', u'SDD4_ICR', u'GratingUp', u'GratingDown', u'Timer', u'Clock', u'Clock']     The Command is:  cscan en 690 750 60 0     DateTime:  Sun May 01 17:36:21 2016\n",
      "\n",
      "Scan: 43    labels:  [u'Energy', u'H', u'K', u'L', u'Epoch', u'Diode', u'TEY', u'I0', u'SDD1_OCR', u'SDD1_ICR', u'SDD2_OCR', u'SDD2_ICR', u'SDD3_OCR', u'SDD3_ICR', u'SDD4_OCR', u'SDD4_ICR', u'GratingUp', u'GratingDown', u'Timer', u'Clock', u'Clock']     The Command is:  cscan en 690 750 60 0     DateTime:  Sun May 01 17:38:29 2016\n",
      "\n",
      "Scan: 44    labels:  [u'Energy', u'H', u'K', u'L', u'Epoch', u'Diode', u'TEY', u'I0', u'SDD1_OCR', u'SDD1_ICR', u'SDD2_OCR', u'SDD2_ICR', u'SDD3_OCR', u'SDD3_ICR', u'SDD4_OCR', u'SDD4_ICR', u'GratingUp', u'GratingDown', u'Timer', u'Clock', u'Clock']     The Command is:  cscan en 690 750 60 0     DateTime:  Sun May 01 17:40:39 2016\n",
      "\n",
      "Scan: 45    labels:  [u'Energy', u'H', u'K', u'L', u'Epoch', u'Diode', u'TEY', u'I0', u'SDD1_OCR', u'SDD1_ICR', u'SDD2_OCR', u'SDD2_ICR', u'SDD3_OCR', u'SDD3_ICR', u'SDD4_OCR', u'SDD4_ICR', u'GratingUp', u'GratingDown', u'Timer', u'Clock', u'Clock']     The Command is:  cscan en 690 750 60 0     DateTime:  Sun May 01 17:42:05 2016\n",
      "\n",
      "Scan: 46    labels:  [u'Energy', u'H', u'K', u'L', u'Epoch', u'Diode', u'TEY', u'I0', u'SDD1_OCR', u'SDD1_ICR', u'SDD2_OCR', u'SDD2_ICR', u'SDD3_OCR', u'SDD3_ICR', u'SDD4_OCR', u'SDD4_ICR', u'GratingUp', u'GratingDown', u'Timer', u'Clock', u'Clock']     The Command is:  cscan en 690 750 60 0     DateTime:  Sun May 01 17:43:32 2016\n",
      "\n",
      "Scan: 47    labels:  [u'Energy', u'H', u'K', u'L', u'Epoch', u'Diode', u'TEY', u'I0', u'SDD1_OCR', u'SDD1_ICR', u'SDD2_OCR', u'SDD2_ICR', u'SDD3_OCR', u'SDD3_ICR', u'SDD4_OCR', u'SDD4_ICR', u'GratingUp', u'GratingDown', u'Timer', u'Clock', u'Clock']     The Command is:  cscan en 690 750 60 0     DateTime:  Sun May 01 17:44:53 2016\n",
      "\n",
      "Scan: 48    labels:  [u'Energy', u'H', u'K', u'L', u'Epoch', u'Diode', u'TEY', u'I0', u'SDD1_OCR', u'SDD1_ICR', u'SDD2_OCR', u'SDD2_ICR', u'SDD3_OCR', u'SDD3_ICR', u'SDD4_OCR', u'SDD4_ICR', u'GratingUp', u'GratingDown', u'Timer', u'Clock', u'Clock']     The Command is:  cscan en 690 750 60 0     DateTime:  Sun May 01 17:46:18 2016\n",
      "\n",
      "Scan: 49    labels:  [u'Energy', u'H', u'K', u'L', u'Epoch', u'Diode', u'TEY', u'I0', u'SDD1_OCR', u'SDD1_ICR', u'SDD2_OCR', u'SDD2_ICR', u'SDD3_OCR', u'SDD3_ICR', u'SDD4_OCR', u'SDD4_ICR', u'GratingUp', u'GratingDown', u'Timer', u'Clock', u'Clock']     The Command is:  cscan en 690 750 60 0     DateTime:  Sun May 01 17:47:38 2016\n",
      "\n",
      "Scan: 50    labels:  [u'Energy', u'H', u'K', u'L', u'Epoch', u'Diode', u'TEY', u'I0', u'SDD1_OCR', u'SDD1_ICR', u'SDD2_OCR', u'SDD2_ICR', u'SDD3_OCR', u'SDD3_ICR', u'SDD4_OCR', u'SDD4_ICR', u'GratingUp', u'GratingDown', u'Timer', u'Clock', u'Clock']     The Command is:  cscan en 690 750 60 0     DateTime:  Sun May 01 17:49:12 2016\n",
      "\n",
      "Scan: 51    labels:  [u'Energy', u'H', u'K', u'L', u'Epoch', u'Diode', u'TEY', u'I0', u'SDD1_OCR', u'SDD1_ICR', u'SDD2_OCR', u'SDD2_ICR', u'SDD3_OCR', u'SDD3_ICR', u'SDD4_OCR', u'SDD4_ICR', u'GratingUp', u'GratingDown', u'Timer', u'Clock', u'Clock']     The Command is:  cscan en 690 750 60 0     DateTime:  Sun May 01 17:50:35 2016\n",
      "\n",
      "Scan: 52    labels:  [u'Energy', u'H', u'K', u'L', u'Epoch', u'Diode', u'TEY', u'I0', u'SDD1_OCR', u'SDD1_ICR', u'SDD2_OCR', u'SDD2_ICR', u'SDD3_OCR', u'SDD3_ICR', u'SDD4_OCR', u'SDD4_ICR', u'GratingUp', u'GratingDown', u'Timer', u'Clock', u'Clock']     The Command is:  cscan en 270 320 60 0     DateTime:  Sun May 01 18:01:08 2016\n",
      "\n",
      "Scan: 53    labels:  [u'Energy', u'H', u'K', u'L', u'Epoch', u'Diode', u'TEY', u'I0', u'SDD1_OCR', u'SDD1_ICR', u'SDD2_OCR', u'SDD2_ICR', u'SDD3_OCR', u'SDD3_ICR', u'SDD4_OCR', u'SDD4_ICR', u'GratingUp', u'GratingDown', u'Timer', u'Clock', u'Clock']     The Command is:  cscan en 270 320 60 0     DateTime:  Sun May 01 18:03:38 2016\n",
      "\n",
      "Scan: 54    labels:  [u'Energy', u'H', u'K', u'L', u'Epoch', u'Diode', u'TEY', u'I0', u'SDD1_OCR', u'SDD1_ICR', u'SDD2_OCR', u'SDD2_ICR', u'SDD3_OCR', u'SDD3_ICR', u'SDD4_OCR', u'SDD4_ICR', u'GratingUp', u'GratingDown', u'Timer', u'Clock', u'Clock']     The Command is:  cscan en 270 320 60 0     DateTime:  Sun May 01 18:05:05 2016\n",
      "\n",
      "Scan: 55    labels:  [u'Energy', u'H', u'K', u'L', u'Epoch', u'Diode', u'TEY', u'I0', u'SDD1_OCR', u'SDD1_ICR', u'SDD2_OCR', u'SDD2_ICR', u'SDD3_OCR', u'SDD3_ICR', u'SDD4_OCR', u'SDD4_ICR', u'GratingUp', u'GratingDown', u'Timer', u'Clock', u'Clock']     The Command is:  cscan en 270 320 60 0     DateTime:  Sun May 01 18:06:53 2016\n",
      "\n",
      "Scan: 56    labels:  [u'Energy', u'H', u'K', u'L', u'Epoch', u'Diode', u'TEY', u'I0', u'SDD1_OCR', u'SDD1_ICR', u'SDD2_OCR', u'SDD2_ICR', u'SDD3_OCR', u'SDD3_ICR', u'SDD4_OCR', u'SDD4_ICR', u'GratingUp', u'GratingDown', u'Timer', u'Clock', u'Clock']     The Command is:  cscan en 270 320 60 0     DateTime:  Sun May 01 18:08:19 2016\n",
      "\n",
      "Scan: 57    labels:  [u'Energy', u'H', u'K', u'L', u'Epoch', u'Diode', u'TEY', u'I0', u'SDD1_OCR', u'SDD1_ICR', u'SDD2_OCR', u'SDD2_ICR', u'SDD3_OCR', u'SDD3_ICR', u'SDD4_OCR', u'SDD4_ICR', u'GratingUp', u'GratingDown', u'Timer', u'Clock', u'Clock']     The Command is:  cscan en 270 320 60 0     DateTime:  Sun May 01 18:09:54 2016\n",
      "\n",
      "Scan: 58    labels:  [u'Energy', u'H', u'K', u'L', u'Epoch', u'Diode', u'TEY', u'I0', u'SDD1_OCR', u'SDD1_ICR', u'SDD2_OCR', u'SDD2_ICR', u'SDD3_OCR', u'SDD3_ICR', u'SDD4_OCR', u'SDD4_ICR', u'GratingUp', u'GratingDown', u'Timer', u'Clock', u'Clock']     The Command is:  cscan en 270 320 60 0     DateTime:  Sun May 01 18:11:19 2016\n",
      "\n",
      "Scan: 59    labels:  [u'Energy', u'H', u'K', u'L', u'Epoch', u'Diode', u'TEY', u'I0', u'SDD1_OCR', u'SDD1_ICR', u'SDD2_OCR', u'SDD2_ICR', u'SDD3_OCR', u'SDD3_ICR', u'SDD4_OCR', u'SDD4_ICR', u'GratingUp', u'GratingDown', u'Timer', u'Clock', u'Clock']     The Command is:  cscan en 270 320 60 0     DateTime:  Sun May 01 18:12:51 2016\n",
      "\n",
      "Scan: 60    labels:  [u'Energy', u'H', u'K', u'L', u'Epoch', u'Diode', u'TEY', u'I0', u'SDD1_OCR', u'SDD1_ICR', u'SDD2_OCR', u'SDD2_ICR', u'SDD3_OCR', u'SDD3_ICR', u'SDD4_OCR', u'SDD4_ICR', u'GratingUp', u'GratingDown', u'Timer', u'Clock', u'Clock']     The Command is:  cscan en 270 320 60 0     DateTime:  Sun May 01 18:14:19 2016\n",
      "\n",
      "Scan: 61    labels:  [u'Energy', u'H', u'K', u'L', u'Epoch', u'Diode', u'TEY', u'I0', u'SDD1_OCR', u'SDD1_ICR', u'SDD2_OCR', u'SDD2_ICR', u'SDD3_OCR', u'SDD3_ICR', u'SDD4_OCR', u'SDD4_ICR', u'GratingUp', u'GratingDown', u'Timer', u'Clock', u'Clock']     The Command is:  cscan en 270 320 60 0     DateTime:  Sun May 01 18:15:48 2016\n",
      "\n",
      "Scan: 62    labels:  [u'Energy', u'H', u'K', u'L', u'Epoch', u'Diode', u'TEY', u'I0', u'SDD1_OCR', u'SDD1_ICR', u'SDD2_OCR', u'SDD2_ICR', u'SDD3_OCR', u'SDD3_ICR', u'SDD4_OCR', u'SDD4_ICR', u'GratingUp', u'GratingDown', u'Timer', u'Clock', u'Clock']     The Command is:  cscan en 270 320 60 0     DateTime:  Sun May 01 18:19:20 2016\n",
      "\n",
      "Scan: 63    labels:  [u'Energy', u'H', u'K', u'L', u'Epoch', u'Diode', u'TEY', u'I0', u'SDD1_OCR', u'SDD1_ICR', u'SDD2_OCR', u'SDD2_ICR', u'SDD3_OCR', u'SDD3_ICR', u'SDD4_OCR', u'SDD4_ICR', u'GratingUp', u'GratingDown', u'Timer', u'Clock', u'Clock']     The Command is:  cscan en 270 320 60 0     DateTime:  Sun May 01 18:20:46 2016\n",
      "\n",
      "Scan: 64    labels:  [u'Energy', u'H', u'K', u'L', u'Epoch', u'Diode', u'TEY', u'I0', u'SDD1_OCR', u'SDD1_ICR', u'SDD2_OCR', u'SDD2_ICR', u'SDD3_OCR', u'SDD3_ICR', u'SDD4_OCR', u'SDD4_ICR', u'GratingUp', u'GratingDown', u'Timer', u'Clock', u'Clock']     The Command is:  cscan en 270 320 60 0     DateTime:  Sun May 01 18:22:14 2016\n",
      "\n",
      "Scan: 65    labels:  [u'Energy', u'H', u'K', u'L', u'Epoch', u'Diode', u'TEY', u'I0', u'SDD1_OCR', u'SDD1_ICR', u'SDD2_OCR', u'SDD2_ICR', u'SDD3_OCR', u'SDD3_ICR', u'SDD4_OCR', u'SDD4_ICR', u'GratingUp', u'GratingDown', u'Timer', u'Clock', u'Clock']     The Command is:  cscan en 270 320 60 0     DateTime:  Sun May 01 18:24:01 2016\n",
      "\n",
      "Scan: 66    labels:  [u'Energy', u'H', u'K', u'L', u'Epoch', u'Diode', u'TEY', u'I0', u'SDD1_OCR', u'SDD1_ICR', u'SDD2_OCR', u'SDD2_ICR', u'SDD3_OCR', u'SDD3_ICR', u'SDD4_OCR', u'SDD4_ICR', u'GratingUp', u'GratingDown', u'Timer', u'Clock', u'Clock']     The Command is:  cscan en 270 320 60 0     DateTime:  Sun May 01 18:25:27 2016\n",
      "\n",
      "Scan: 67    labels:  [u'Energy', u'H', u'K', u'L', u'Epoch', u'Diode', u'TEY', u'I0', u'SDD1_OCR', u'SDD1_ICR', u'SDD2_OCR', u'SDD2_ICR', u'SDD3_OCR', u'SDD3_ICR', u'SDD4_OCR', u'SDD4_ICR', u'GratingUp', u'GratingDown', u'Timer', u'Clock', u'Clock']     The Command is:  cscan en 270 320 60 0     DateTime:  Sun May 01 18:26:53 2016\n",
      "\n",
      "Scan: 68    labels:  [u'Energy', u'H', u'K', u'L', u'Epoch', u'Diode', u'TEY', u'I0', u'SDD1_OCR', u'SDD1_ICR', u'SDD2_OCR', u'SDD2_ICR', u'SDD3_OCR', u'SDD3_ICR', u'SDD4_OCR', u'SDD4_ICR', u'GratingUp', u'GratingDown', u'Timer', u'Clock', u'Clock']     The Command is:  cscan en 270 320 60 0     DateTime:  Sun May 01 18:28:22 2016\n",
      "\n",
      "Scan: 69    labels:  [u'Energy', u'H', u'K', u'L', u'Epoch', u'Diode', u'TEY', u'I0', u'SDD1_OCR', u'SDD1_ICR', u'SDD2_OCR', u'SDD2_ICR', u'SDD3_OCR', u'SDD3_ICR', u'SDD4_OCR', u'SDD4_ICR', u'GratingUp', u'GratingDown', u'Timer', u'Clock', u'Clock']     The Command is:  cscan en 270 320 60 0     DateTime:  Sun May 01 18:29:49 2016\n",
      "\n",
      "Scan: 70    labels:  [u'Energy', u'H', u'K', u'L', u'Epoch', u'Diode', u'TEY', u'I0', u'SDD1_OCR', u'SDD1_ICR', u'SDD2_OCR', u'SDD2_ICR', u'SDD3_OCR', u'SDD3_ICR', u'SDD4_OCR', u'SDD4_ICR', u'GratingUp', u'GratingDown', u'Timer', u'Clock', u'Clock']     The Command is:  cscan en 270 320 60 0     DateTime:  Sun May 01 18:31:17 2016\n",
      "\n",
      "Scan: 71    labels:  [u'Energy', u'H', u'K', u'L', u'Epoch', u'Diode', u'TEY', u'I0', u'SDD1_OCR', u'SDD1_ICR', u'SDD2_OCR', u'SDD2_ICR', u'SDD3_OCR', u'SDD3_ICR', u'SDD4_OCR', u'SDD4_ICR', u'GratingUp', u'GratingDown', u'Timer', u'Clock', u'Clock']     The Command is:  cscan en 270 320 60 0     DateTime:  Sun May 01 18:32:43 2016\n",
      "\n",
      "Scan: 72    labels:  [u'Energy', u'H', u'K', u'L', u'Epoch', u'Diode', u'TEY', u'I0', u'SDD1_OCR', u'SDD1_ICR', u'SDD2_OCR', u'SDD2_ICR', u'SDD3_OCR', u'SDD3_ICR', u'SDD4_OCR', u'SDD4_ICR', u'GratingUp', u'GratingDown', u'Timer', u'Clock', u'Clock']     The Command is:  cscan en 270 320 60 0     DateTime:  Sun May 01 18:38:09 2016\n",
      "\n",
      "Scan: 73    labels:  [u'Energy', u'H', u'K', u'L', u'Epoch', u'Diode', u'TEY', u'I0', u'SDD1_OCR', u'SDD1_ICR', u'SDD2_OCR', u'SDD2_ICR', u'SDD3_OCR', u'SDD3_ICR', u'SDD4_OCR', u'SDD4_ICR', u'GratingUp', u'GratingDown', u'Timer', u'Clock', u'Clock']     The Command is:  cscan en 270 320 60 0     DateTime:  Sun May 01 18:39:37 2016\n",
      "\n",
      "Scan: 74    labels:  [u'Energy', u'H', u'K', u'L', u'Epoch', u'Diode', u'TEY', u'I0', u'SDD1_OCR', u'SDD1_ICR', u'SDD2_OCR', u'SDD2_ICR', u'SDD3_OCR', u'SDD3_ICR', u'SDD4_OCR', u'SDD4_ICR', u'GratingUp', u'GratingDown', u'Timer', u'Clock', u'Clock']     The Command is:  cscan en 270 320 60 0     DateTime:  Sun May 01 18:41:03 2016\n",
      "\n",
      "Scan: 75    labels:  [u'Energy', u'H', u'K', u'L', u'Epoch', u'Diode', u'TEY', u'I0', u'SDD1_OCR', u'SDD1_ICR', u'SDD2_OCR', u'SDD2_ICR', u'SDD3_OCR', u'SDD3_ICR', u'SDD4_OCR', u'SDD4_ICR', u'GratingUp', u'GratingDown', u'Timer', u'Clock', u'Clock']     The Command is:  cscan en 270 320 60 0     DateTime:  Sun May 01 18:42:29 2016\n",
      "\n",
      "Scan: 76    labels:  [u'Energy', u'H', u'K', u'L', u'Epoch', u'Diode', u'TEY', u'I0', u'SDD1_OCR', u'SDD1_ICR', u'SDD2_OCR', u'SDD2_ICR', u'SDD3_OCR', u'SDD3_ICR', u'SDD4_OCR', u'SDD4_ICR', u'GratingUp', u'GratingDown', u'Timer', u'Clock', u'Clock']     The Command is:  cscan en 270 320 60 0     DateTime:  Sun May 01 18:43:56 2016\n",
      "\n",
      "Scan: 77    labels:  [u'Energy', u'H', u'K', u'L', u'Epoch', u'Diode', u'TEY', u'I0', u'SDD1_OCR', u'SDD1_ICR', u'SDD2_OCR', u'SDD2_ICR', u'SDD3_OCR', u'SDD3_ICR', u'SDD4_OCR', u'SDD4_ICR', u'GratingUp', u'GratingDown', u'Timer', u'Clock', u'Clock']     The Command is:  cscan en 270 320 60 0     DateTime:  Sun May 01 18:45:22 2016\n",
      "\n",
      "Scan: 78    labels:  [u'Energy', u'H', u'K', u'L', u'Epoch', u'Diode', u'TEY', u'I0', u'SDD1_OCR', u'SDD1_ICR', u'SDD2_OCR', u'SDD2_ICR', u'SDD3_OCR', u'SDD3_ICR', u'SDD4_OCR', u'SDD4_ICR', u'GratingUp', u'GratingDown', u'Timer', u'Clock', u'Clock']     The Command is:  cscan en 270 320 60 0     DateTime:  Sun May 01 18:46:47 2016\n",
      "\n",
      "Scan: 79    labels:  [u'Energy', u'H', u'K', u'L', u'Epoch', u'Diode', u'TEY', u'I0', u'SDD1_OCR', u'SDD1_ICR', u'SDD2_OCR', u'SDD2_ICR', u'SDD3_OCR', u'SDD3_ICR', u'SDD4_OCR', u'SDD4_ICR', u'GratingUp', u'GratingDown', u'Timer', u'Clock', u'Clock']     The Command is:  cscan en 270 320 60 0     DateTime:  Sun May 01 18:48:14 2016\n",
      "\n",
      "Scan: 80    labels:  [u'Energy', u'H', u'K', u'L', u'Epoch', u'Diode', u'TEY', u'I0', u'SDD1_OCR', u'SDD1_ICR', u'SDD2_OCR', u'SDD2_ICR', u'SDD3_OCR', u'SDD3_ICR', u'SDD4_OCR', u'SDD4_ICR', u'GratingUp', u'GratingDown', u'Timer', u'Clock', u'Clock']     The Command is:  cscan en 270 320 60 0     DateTime:  Sun May 01 18:49:40 2016\n",
      "\n",
      "Scan: 81    labels:  [u'Energy', u'H', u'K', u'L', u'Epoch', u'Diode', u'TEY', u'I0', u'SDD1_OCR', u'SDD1_ICR', u'SDD2_OCR', u'SDD2_ICR', u'SDD3_OCR', u'SDD3_ICR', u'SDD4_OCR', u'SDD4_ICR', u'GratingUp', u'GratingDown', u'Timer', u'Clock', u'Clock']     The Command is:  cscan en 270 320 60 0     DateTime:  Sun May 01 18:51:06 2016\n",
      "\n",
      "Scan: 82    labels:  [u'Energy', u'H', u'K', u'L', u'Epoch', u'Diode', u'TEY', u'I0', u'SDD1_OCR', u'SDD1_ICR', u'SDD2_OCR', u'SDD2_ICR', u'SDD3_OCR', u'SDD3_ICR', u'SDD4_OCR', u'SDD4_ICR', u'GratingUp', u'GratingDown', u'Timer', u'Clock', u'Clock']     The Command is:  cscan en 270 320 60 0     DateTime:  Sun May 01 18:55:44 2016\n",
      "\n",
      "Scan: 83    labels:  [u'Energy', u'H', u'K', u'L', u'Epoch', u'Diode', u'TEY', u'I0', u'SDD1_OCR', u'SDD1_ICR', u'SDD2_OCR', u'SDD2_ICR', u'SDD3_OCR', u'SDD3_ICR', u'SDD4_OCR', u'SDD4_ICR', u'GratingUp', u'GratingDown', u'Timer', u'Clock', u'Clock']     The Command is:  cscan en 270 320 60 0     DateTime:  Sun May 01 18:57:11 2016\n",
      "\n",
      "Scan: 84    labels:  [u'Energy', u'H', u'K', u'L', u'Epoch', u'Diode', u'TEY', u'I0', u'SDD1_OCR', u'SDD1_ICR', u'SDD2_OCR', u'SDD2_ICR', u'SDD3_OCR', u'SDD3_ICR', u'SDD4_OCR', u'SDD4_ICR', u'GratingUp', u'GratingDown', u'Timer', u'Clock', u'Clock']     The Command is:  cscan en 270 320 60 0     DateTime:  Sun May 01 18:58:37 2016\n",
      "\n",
      "Scan: 85    labels:  [u'Energy', u'H', u'K', u'L', u'Epoch', u'Diode', u'TEY', u'I0', u'SDD1_OCR', u'SDD1_ICR', u'SDD2_OCR', u'SDD2_ICR', u'SDD3_OCR', u'SDD3_ICR', u'SDD4_OCR', u'SDD4_ICR', u'GratingUp', u'GratingDown', u'Timer', u'Clock', u'Clock']     The Command is:  cscan en 270 320 60 0     DateTime:  Sun May 01 19:00:05 2016\n",
      "\n",
      "Scan: 86    labels:  [u'Energy', u'H', u'K', u'L', u'Epoch', u'Diode', u'TEY', u'I0', u'SDD1_OCR', u'SDD1_ICR', u'SDD2_OCR', u'SDD2_ICR', u'SDD3_OCR', u'SDD3_ICR', u'SDD4_OCR', u'SDD4_ICR', u'GratingUp', u'GratingDown', u'Timer', u'Clock', u'Clock']     The Command is:  cscan en 270 320 60 0     DateTime:  Sun May 01 19:01:32 2016\n",
      "\n",
      "Scan: 87    labels:  [u'Energy', u'H', u'K', u'L', u'Epoch', u'Diode', u'TEY', u'I0', u'SDD1_OCR', u'SDD1_ICR', u'SDD2_OCR', u'SDD2_ICR', u'SDD3_OCR', u'SDD3_ICR', u'SDD4_OCR', u'SDD4_ICR', u'GratingUp', u'GratingDown', u'Timer', u'Clock', u'Clock']     The Command is:  cscan en 270 320 60 0     DateTime:  Sun May 01 19:03:17 2016\n",
      "\n",
      "Scan: 88    labels:  [u'Energy', u'H', u'K', u'L', u'Epoch', u'Diode', u'TEY', u'I0', u'SDD1_OCR', u'SDD1_ICR', u'SDD2_OCR', u'SDD2_ICR', u'SDD3_OCR', u'SDD3_ICR', u'SDD4_OCR', u'SDD4_ICR', u'GratingUp', u'GratingDown', u'Timer', u'Clock', u'Clock']     The Command is:  cscan en 270 320 60 0     DateTime:  Sun May 01 19:05:10 2016\n",
      "\n",
      "Scan: 89    labels:  [u'Energy', u'H', u'K', u'L', u'Epoch', u'Diode', u'TEY', u'I0', u'SDD1_OCR', u'SDD1_ICR', u'SDD2_OCR', u'SDD2_ICR', u'SDD3_OCR', u'SDD3_ICR', u'SDD4_OCR', u'SDD4_ICR', u'GratingUp', u'GratingDown', u'Timer', u'Clock', u'Clock']     The Command is:  cscan en 270 320 60 0     DateTime:  Sun May 01 19:06:45 2016\n",
      "\n",
      "Scan: 90    labels:  [u'Energy', u'H', u'K', u'L', u'Epoch', u'Diode', u'TEY', u'I0', u'SDD1_OCR', u'SDD1_ICR', u'SDD2_OCR', u'SDD2_ICR', u'SDD3_OCR', u'SDD3_ICR', u'SDD4_OCR', u'SDD4_ICR', u'GratingUp', u'GratingDown', u'Timer', u'Clock', u'Clock']     The Command is:  cscan en 270 320 60 0     DateTime:  Sun May 01 19:08:17 2016\n",
      "\n",
      "Scan: 91    labels:  [u'Energy', u'H', u'K', u'L', u'Epoch', u'Diode', u'TEY', u'I0', u'SDD1_OCR', u'SDD1_ICR', u'SDD2_OCR', u'SDD2_ICR', u'SDD3_OCR', u'SDD3_ICR', u'SDD4_OCR', u'SDD4_ICR', u'GratingUp', u'GratingDown', u'Timer', u'Clock', u'Clock']     The Command is:  cscan en 270 320 60 0     DateTime:  Sun May 01 19:09:47 2016\n",
      "\n"
     ]
    }
   ],
   "source": [
    "getBasicScanDetails(fileDirectory_3)"
   ]
  },
  {
   "cell_type": "code",
   "execution_count": null,
   "metadata": {
    "collapsed": true
   },
   "outputs": [],
   "source": []
  }
 ],
 "metadata": {
  "kernelspec": {
   "display_name": "Python 2",
   "language": "python",
   "name": "python2"
  },
  "language_info": {
   "codemirror_mode": {
    "name": "ipython",
    "version": 2
   },
   "file_extension": ".py",
   "mimetype": "text/x-python",
   "name": "python",
   "nbconvert_exporter": "python",
   "pygments_lexer": "ipython2",
   "version": "2.7.11"
  }
 },
 "nbformat": 4,
 "nbformat_minor": 0
}
