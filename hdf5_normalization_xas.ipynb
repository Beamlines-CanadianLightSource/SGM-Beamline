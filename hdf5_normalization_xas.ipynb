{
 "cells": [
  {
   "cell_type": "code",
   "execution_count": 1,
   "metadata": {
    "collapsed": false
   },
   "outputs": [
    {
     "name": "stderr",
     "output_type": "stream",
     "text": [
      "C:\\Program Files\\Anaconda2\\lib\\site-packages\\IPython\\html.py:14: ShimWarning: The `IPython.html` package has been deprecated. You should import from `notebook` instead. `IPython.html.widgets` has moved to `ipywidgets`.\n",
      "  \"`IPython.html.widgets` has moved to `ipywidgets`.\", ShimWarning)\n",
      "C:\\Program Files\\Anaconda2\\lib\\site-packages\\matplotlib\\__init__.py:1350: UserWarning:  This call to matplotlib.use() has no effect\n",
      "because the backend has already been chosen;\n",
      "matplotlib.use() must be called *before* pylab, matplotlib.pyplot,\n",
      "or matplotlib.backends is imported for the first time.\n",
      "\n",
      "  warnings.warn(_use_error_msg)\n"
     ]
    }
   ],
   "source": [
    "%matplotlib notebook\n",
    "from IPython.display import display\n",
    "from IPython.html import widgets\n",
    "from scripts.open_hdf5 import *\n",
    "from scripts.xas_tool import *"
   ]
  },
  {
   "cell_type": "code",
   "execution_count": 2,
   "metadata": {
    "collapsed": false
   },
   "outputs": [
    {
     "name": "stdout",
     "output_type": "stream",
     "text": [
      "C:\\Users\\hanr\\GitHub\\SGM-Beamline\\data/spectra_example.hdf5\n"
     ]
    }
   ],
   "source": [
    "file_directory = get_abs_path(\"data/spectra_example.hdf5\")\n",
    "print file_directory"
   ]
  },
  {
   "cell_type": "code",
   "execution_count": 3,
   "metadata": {
    "collapsed": false
   },
   "outputs": [
    {
     "name": "stdout",
     "output_type": "stream",
     "text": [
      "[1, 10, 2, 3, 4, 5, 6, 7, 8, 9]\n"
     ]
    }
   ],
   "source": [
    "scan_num_array = get_all_scan_num_hdf5(file_directory)\n",
    "print scan_num_array"
   ]
  },
  {
   "cell_type": "code",
   "execution_count": 4,
   "metadata": {
    "collapsed": false
   },
   "outputs": [],
   "source": [
    "inputText = widgets.Text() \n",
    "def generate_array(sender):\n",
    "\tprint inputText.value\n",
    "inputText.on_submit(generate_array)\n",
    "inputText"
   ]
  },
  {
   "cell_type": "code",
   "execution_count": 5,
   "metadata": {
    "collapsed": false
   },
   "outputs": [
    {
     "name": "stdout",
     "output_type": "stream",
     "text": [
      "In if\n"
     ]
    }
   ],
   "source": [
    "bad_scan = inputText.value\n",
    "good_scan = generate_good_scan_index(scan_num_array, bad_scan)"
   ]
  },
  {
   "cell_type": "code",
   "execution_count": null,
   "metadata": {
    "collapsed": false
   },
   "outputs": [
    {
     "name": "stdout",
     "output_type": "stream",
     "text": [
      "('List of arrays in this file: \\n', [u'S1', u'S10', u'S2', u'S3', u'S4', u'S5', u'S6', u'S7', u'S8', u'S9'])\n"
     ]
    }
   ],
   "source": [
    "bins = 600\n",
    "temp_array = prepare_bin_plot_hdf5 (good_scan, file_directory, 690, 750, bins, 60, 80)\n",
    "mean_energy_array = temp_array[0]\n",
    "sdd_bin_data = temp_array[1]\n",
    "scaler_bin_data = temp_array[2]\n",
    "pfy_bin_data = temp_array[3]"
   ]
  },
  {
   "cell_type": "code",
   "execution_count": null,
   "metadata": {
    "collapsed": false
   },
   "outputs": [],
   "source": [
    "matplotlib.rcParams['figure.figsize'] = (12, 16)\n",
    "plot_bin_xas_all(mean_energy_array, scaler_bin_data, pfy_bin_data)"
   ]
  },
  {
   "cell_type": "code",
   "execution_count": null,
   "metadata": {
    "collapsed": true
   },
   "outputs": [],
   "source": []
  }
 ],
 "metadata": {
  "kernelspec": {
   "display_name": "Python 2",
   "language": "python",
   "name": "python2"
  },
  "language_info": {
   "codemirror_mode": {
    "name": "ipython",
    "version": 2
   },
   "file_extension": ".py",
   "mimetype": "text/x-python",
   "name": "python",
   "nbconvert_exporter": "python",
   "pygments_lexer": "ipython2",
   "version": "2.7.11"
  }
 },
 "nbformat": 4,
 "nbformat_minor": 0
}
