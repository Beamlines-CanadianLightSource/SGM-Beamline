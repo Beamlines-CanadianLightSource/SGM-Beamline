{
 "cells": [
  {
   "cell_type": "code",
   "execution_count": 1,
   "metadata": {
    "collapsed": true
   },
   "outputs": [],
   "source": [
    "import os\n",
    "from scripts.scan_details import *"
   ]
  },
  {
   "cell_type": "markdown",
   "metadata": {},
   "source": [
    "## Example of using checkFileType method"
   ]
  },
  {
   "cell_type": "code",
   "execution_count": 2,
   "metadata": {
    "collapsed": false
   },
   "outputs": [
    {
     "name": "stdout",
     "output_type": "stream",
     "text": [
      "C:\\Users\\hanr\\GitHub\\SGM-Beamline\\data/spectra_example.dat\n"
     ]
    }
   ],
   "source": [
    "script_dir = os.path.dirname(os.path.realpath('__file__'))\n",
    "rel_path = \"data/spectra_example.dat\"\n",
    "fileDirectory_1 = os.path.join(script_dir, rel_path)\n",
    "print fileDirectory_1"
   ]
  },
  {
   "cell_type": "code",
   "execution_count": 3,
   "metadata": {
    "collapsed": false
   },
   "outputs": [
    {
     "data": {
      "text/plain": [
       "'This is the data file of spectra.'"
      ]
     },
     "execution_count": 3,
     "metadata": {},
     "output_type": "execute_result"
    }
   ],
   "source": [
    "checkFileType(fileDirectory_1)"
   ]
  },
  {
   "cell_type": "code",
   "execution_count": 4,
   "metadata": {
    "collapsed": false
   },
   "outputs": [
    {
     "name": "stdout",
     "output_type": "stream",
     "text": [
      "C:\\Users\\hanr\\GitHub\\SGM-Beamline\\data/map_example.dat\n"
     ]
    }
   ],
   "source": [
    "script_dir = os.path.dirname(os.path.realpath('__file__'))\n",
    "# please change name of the data file\n",
    "rel_path = \"data/map_example.dat\"\n",
    "# get absolute path\n",
    "fileDirectory_2 = os.path.join(script_dir, rel_path)\n",
    "print fileDirectory_2"
   ]
  },
  {
   "cell_type": "code",
   "execution_count": 5,
   "metadata": {
    "collapsed": false
   },
   "outputs": [
    {
     "data": {
      "text/plain": [
       "'This is a map data file.'"
      ]
     },
     "execution_count": 5,
     "metadata": {},
     "output_type": "execute_result"
    }
   ],
   "source": [
    "checkFileType(fileDirectory_2)"
   ]
  },
  {
   "cell_type": "markdown",
   "metadata": {
    "collapsed": true
   },
   "source": [
    "## Example of using getBasicScanDetails method"
   ]
  },
  {
   "cell_type": "code",
   "execution_count": 6,
   "metadata": {
    "collapsed": false
   },
   "outputs": [
    {
     "name": "stdout",
     "output_type": "stream",
     "text": [
      "Scan: 1    labels:  [u'Energy', u'H', u'K', u'L', u'Epoch', u'Diode', u'TEY', u'I0', u'SDD1_OCR', u'SDD1_ICR', u'SDD2_OCR', u'SDD2_ICR', u'SDD3_OCR', u'SDD3_ICR', u'SDD4_OCR', u'SDD4_ICR', u'GratingUp', u'GratingDown', u'Timer', u'Clock', u'Clock']     The Command is:  cscan en 690 750 60 0     DateTime:  Sun May 15 11:20:24 2016\n",
      "\n",
      "Scan: 2    labels:  [u'Energy', u'H', u'K', u'L', u'Epoch', u'Diode', u'TEY', u'I0', u'SDD1_OCR', u'SDD1_ICR', u'SDD2_OCR', u'SDD2_ICR', u'SDD3_OCR', u'SDD3_ICR', u'SDD4_OCR', u'SDD4_ICR', u'GratingUp', u'GratingDown', u'Timer', u'Clock', u'Clock']     The Command is:  cscan en 690 750 60 0     DateTime:  Sun May 15 11:21:34 2016\n",
      "\n",
      "Scan: 3    labels:  [u'Energy', u'H', u'K', u'L', u'Epoch', u'Diode', u'TEY', u'I0', u'SDD1_OCR', u'SDD1_ICR', u'SDD2_OCR', u'SDD2_ICR', u'SDD3_OCR', u'SDD3_ICR', u'SDD4_OCR', u'SDD4_ICR', u'GratingUp', u'GratingDown', u'Timer', u'Clock', u'Clock']     The Command is:  cscan en 690 750 60 0     DateTime:  Sun May 15 11:22:45 2016\n",
      "\n",
      "Scan: 4    labels:  [u'Energy', u'H', u'K', u'L', u'Epoch', u'Diode', u'TEY', u'I0', u'SDD1_OCR', u'SDD1_ICR', u'SDD2_OCR', u'SDD2_ICR', u'SDD3_OCR', u'SDD3_ICR', u'SDD4_OCR', u'SDD4_ICR', u'GratingUp', u'GratingDown', u'Timer', u'Clock', u'Clock']     The Command is:  cscan en 690 750 60 0     DateTime:  Sun May 15 11:23:55 2016\n",
      "\n",
      "Scan: 5    labels:  [u'Energy', u'H', u'K', u'L', u'Epoch', u'Diode', u'TEY', u'I0', u'SDD1_OCR', u'SDD1_ICR', u'SDD2_OCR', u'SDD2_ICR', u'SDD3_OCR', u'SDD3_ICR', u'SDD4_OCR', u'SDD4_ICR', u'GratingUp', u'GratingDown', u'Timer', u'Clock', u'Clock']     The Command is:  cscan en 690 750 60 0     DateTime:  Sun May 15 11:25:05 2016\n",
      "\n",
      "Scan: 6    labels:  [u'Energy', u'H', u'K', u'L', u'Epoch', u'Diode', u'TEY', u'I0', u'SDD1_OCR', u'SDD1_ICR', u'SDD2_OCR', u'SDD2_ICR', u'SDD3_OCR', u'SDD3_ICR', u'SDD4_OCR', u'SDD4_ICR', u'GratingUp', u'GratingDown', u'Timer', u'Clock', u'Clock']     The Command is:  cscan en 690 750 60 0     DateTime:  Sun May 15 11:26:16 2016\n",
      "\n",
      "Scan: 7    labels:  [u'Energy', u'H', u'K', u'L', u'Epoch', u'Diode', u'TEY', u'I0', u'SDD1_OCR', u'SDD1_ICR', u'SDD2_OCR', u'SDD2_ICR', u'SDD3_OCR', u'SDD3_ICR', u'SDD4_OCR', u'SDD4_ICR', u'GratingUp', u'GratingDown', u'Timer', u'Clock', u'Clock']     The Command is:  cscan en 690 750 60 0     DateTime:  Sun May 15 11:27:26 2016\n",
      "\n",
      "Scan: 8    labels:  [u'Energy', u'H', u'K', u'L', u'Epoch', u'Diode', u'TEY', u'I0', u'SDD1_OCR', u'SDD1_ICR', u'SDD2_OCR', u'SDD2_ICR', u'SDD3_OCR', u'SDD3_ICR', u'SDD4_OCR', u'SDD4_ICR', u'GratingUp', u'GratingDown', u'Timer', u'Clock', u'Clock']     The Command is:  cscan en 690 750 60 0     DateTime:  Sun May 15 11:28:36 2016\n",
      "\n",
      "Scan: 9    labels:  [u'Energy', u'H', u'K', u'L', u'Epoch', u'Diode', u'TEY', u'I0', u'SDD1_OCR', u'SDD1_ICR', u'SDD2_OCR', u'SDD2_ICR', u'SDD3_OCR', u'SDD3_ICR', u'SDD4_OCR', u'SDD4_ICR', u'GratingUp', u'GratingDown', u'Timer', u'Clock', u'Clock']     The Command is:  cscan en 690 750 60 0     DateTime:  Sun May 15 11:29:47 2016\n",
      "\n",
      "Scan: 10    labels:  [u'Energy', u'H', u'K', u'L', u'Epoch', u'Diode', u'TEY', u'I0', u'SDD1_OCR', u'SDD1_ICR', u'SDD2_OCR', u'SDD2_ICR', u'SDD3_OCR', u'SDD3_ICR', u'SDD4_OCR', u'SDD4_ICR', u'GratingUp', u'GratingDown', u'Timer', u'Clock', u'Clock']     The Command is:  cscan en 690 750 60 0     DateTime:  Sun May 15 11:30:57 2016\n",
      "\n"
     ]
    }
   ],
   "source": [
    "getBasicScanDetails(fileDirectory_1)"
   ]
  },
  {
   "cell_type": "code",
   "execution_count": 7,
   "metadata": {
    "collapsed": false
   },
   "outputs": [
    {
     "name": "stdout",
     "output_type": "stream",
     "text": [
      "Scan: 1    labels:  [u'Hex_XP', u'Hex_YP', u'H', u'K', u'L', u'Epoch', u'Diode', u'TEY', u'I0', u'SDD1_OCR', u'SDD1_ICR', u'SDD2_OCR', u'SDD2_ICR', u'SDD3_OCR', u'SDD3_ICR', u'SDD4_OCR', u'SDD4_ICR', u'GratingUp', u'GratingDown', u'Timer', u'Clock', u'Clock']     The Command is:  cmesh hex_xp 1.3 1.8 10 hex_yp 2.4 2.9 50 0     DateTime:  Fri Apr 29 14:29:58 2016\n",
      "\n",
      "Scan: 2    labels:  [u'Hex_XP', u'Hex_YP', u'H', u'K', u'L', u'Epoch', u'Diode', u'TEY', u'I0', u'SDD1_OCR', u'SDD1_ICR', u'SDD2_OCR', u'SDD2_ICR', u'SDD3_OCR', u'SDD3_ICR', u'SDD4_OCR', u'SDD4_ICR', u'GratingUp', u'GratingDown', u'Timer', u'Clock', u'Clock']     The Command is:  cmesh hex_xp 1.3 1.8 10 hex_yp 2.4 2.9 50 0     DateTime:  Fri Apr 29 14:30:36 2016\n",
      "\n",
      "Scan: 3    labels:  [u'Hex_XP', u'Hex_YP', u'H', u'K', u'L', u'Epoch', u'Diode', u'TEY', u'I0', u'SDD1_OCR', u'SDD1_ICR', u'SDD2_OCR', u'SDD2_ICR', u'SDD3_OCR', u'SDD3_ICR', u'SDD4_OCR', u'SDD4_ICR', u'GratingUp', u'GratingDown', u'Timer', u'Clock', u'Clock']     The Command is:  cmesh hex_xp 1.3 1.8 10 hex_yp 2.4 2.9 50 0     DateTime:  Fri Apr 29 14:33:56 2016\n",
      "\n",
      "Scan: 4    labels:  [u'Hex_XP', u'Hex_YP', u'H', u'K', u'L', u'Epoch', u'Diode', u'TEY', u'I0', u'SDD1_OCR', u'SDD1_ICR', u'SDD2_OCR', u'SDD2_ICR', u'SDD3_OCR', u'SDD3_ICR', u'SDD4_OCR', u'SDD4_ICR', u'GratingUp', u'GratingDown', u'Timer', u'Clock', u'Clock']     The Command is:  cmesh hex_xp 1.3 1.8 20 hex_yp 2.4 2.9 50 0     DateTime:  Fri Apr 29 14:55:07 2016\n",
      "\n",
      "Scan: 5    labels:  [u'Hex_XP', u'Hex_YP', u'H', u'K', u'L', u'Epoch', u'Diode', u'TEY', u'I0', u'SDD1_OCR', u'SDD1_ICR', u'SDD2_OCR', u'SDD2_ICR', u'SDD3_OCR', u'SDD3_ICR', u'SDD4_OCR', u'SDD4_ICR', u'GratingUp', u'GratingDown', u'Timer', u'Clock', u'Clock']     The Command is:  mesh hex_xp 1.3 1.8 50 hex_yp 2.4 2.9 50 0.05     DateTime:  Fri Apr 29 15:16:47 2016\n",
      "\n",
      "Scan: 6    labels:  [u'Hex_XP', u'Hex_YP', u'H', u'K', u'L', u'Epoch', u'Diode', u'TEY', u'I0', u'SDD1_OCR', u'SDD1_ICR', u'SDD2_OCR', u'SDD2_ICR', u'SDD3_OCR', u'SDD3_ICR', u'SDD4_OCR', u'SDD4_ICR', u'GratingUp', u'GratingDown', u'Timer', u'Clock', u'Clock']     The Command is:  mesh hex_xp 1.3 1.8 50 hex_yp 2.4 2.9 50 0.05     DateTime:  Fri Apr 29 15:20:51 2016\n",
      "\n",
      "Scan: 7    labels:  [u'Hex_YP', u'H', u'K', u'L', u'Epoch', u'Diode', u'TEY', u'I0', u'SDD1_OCR', u'SDD1_ICR', u'SDD2_OCR', u'SDD2_ICR', u'SDD3_OCR', u'SDD3_ICR', u'SDD4_OCR', u'SDD4_ICR', u'GratingUp', u'GratingDown', u'Timer', u'Clock', u'Clock']     The Command is:  ascan hex_yp 2.5 2.9 50 0.1     DateTime:  Fri Apr 29 15:27:48 2016\n",
      "\n",
      "Scan: 8    labels:  [u'Energy', u'H', u'K', u'L', u'Epoch', u'Diode', u'TEY', u'I0', u'SDD1_OCR', u'SDD1_ICR', u'SDD2_OCR', u'SDD2_ICR', u'SDD3_OCR', u'SDD3_ICR', u'SDD4_OCR', u'SDD4_ICR', u'GratingUp', u'GratingDown', u'Timer', u'Clock', u'Clock']     The Command is:  ascan en 840 870 30 0.1     DateTime:  Fri Apr 29 15:29:14 2016\n",
      "\n",
      "Scan: 9    labels:  [u'Hex_YP', u'H', u'K', u'L', u'Epoch', u'Diode', u'TEY', u'I0', u'SDD1_OCR', u'SDD1_ICR', u'SDD2_OCR', u'SDD2_ICR', u'SDD3_OCR', u'SDD3_ICR', u'SDD4_OCR', u'SDD4_ICR', u'GratingUp', u'GratingDown', u'Timer', u'Clock', u'Clock']     The Command is:  ascan hex_yp 2.5 2.9 50 0.1     DateTime:  Fri Apr 29 15:49:50 2016\n",
      "\n",
      "Scan: 10    labels:  [u'Hex_YP', u'H', u'K', u'L', u'Epoch', u'Diode', u'TEY', u'I0', u'SDD1_OCR', u'SDD1_ICR', u'SDD2_OCR', u'SDD2_ICR', u'SDD3_OCR', u'SDD3_ICR', u'SDD4_OCR', u'SDD4_ICR', u'GratingUp', u'GratingDown', u'Timer', u'Clock', u'Clock']     The Command is:  ascan hex_yp 2.5 2.9 50 0.1     DateTime:  Fri Apr 29 15:51:35 2016\n",
      "\n",
      "Scan: 11    labels:  [u'Hex_YP', u'H', u'K', u'L', u'Epoch', u'Diode', u'TEY', u'I0', u'SDD1_OCR', u'SDD1_ICR', u'SDD2_OCR', u'SDD2_ICR', u'SDD3_OCR', u'SDD3_ICR', u'SDD4_OCR', u'SDD4_ICR', u'GratingUp', u'GratingDown', u'Timer', u'Clock', u'Clock']     The Command is:  ascan hex_yp 2.5 2.9 50 1     DateTime:  Fri Apr 29 15:52:38 2016\n",
      "\n",
      "Scan: 12    labels:  [u'Hex_YP', u'H', u'K', u'L', u'Epoch', u'Diode', u'TEY', u'I0', u'SDD1_OCR', u'SDD1_ICR', u'SDD2_OCR', u'SDD2_ICR', u'SDD3_OCR', u'SDD3_ICR', u'SDD4_OCR', u'SDD4_ICR', u'GratingUp', u'GratingDown', u'Timer', u'Clock', u'Clock']     The Command is:  ascan hex_yp 2.5 2.9 50 1     DateTime:  Fri Apr 29 15:54:42 2016\n",
      "\n",
      "Scan: 13    labels:  [u'Hex_YP', u'H', u'K', u'L', u'Epoch', u'Diode', u'TEY', u'I0', u'SDD1_OCR', u'SDD1_ICR', u'SDD2_OCR', u'SDD2_ICR', u'SDD3_OCR', u'SDD3_ICR', u'SDD4_OCR', u'SDD4_ICR', u'GratingUp', u'GratingDown', u'Timer', u'Clock', u'Clock']     The Command is:  ascan hex_yp 2.5 2.9 50 1     DateTime:  Fri Apr 29 15:58:35 2016\n",
      "\n",
      "Scan: 14    labels:  [u'Energy', u'H', u'K', u'L', u'Epoch', u'Diode', u'TEY', u'I0', u'SDD1_OCR', u'SDD1_ICR', u'SDD2_OCR', u'SDD2_ICR', u'SDD3_OCR', u'SDD3_ICR', u'SDD4_OCR', u'SDD4_ICR', u'GratingUp', u'GratingDown', u'Timer', u'Clock', u'Clock']     The Command is:  ascan en 845 850 10 0.1     DateTime:  Fri Apr 29 16:00:07 2016\n",
      "\n",
      "Scan: 15    labels:  [u'Energy', u'H', u'K', u'L', u'Epoch', u'Diode', u'TEY', u'I0', u'SDD1_OCR', u'SDD1_ICR', u'SDD2_OCR', u'SDD2_ICR', u'SDD3_OCR', u'SDD3_ICR', u'SDD4_OCR', u'SDD4_ICR', u'GratingUp', u'GratingDown', u'Timer', u'Clock', u'Clock']     The Command is:  ascan en 845 850 10 0.1     DateTime:  Fri Apr 29 16:01:16 2016\n",
      "\n",
      "Scan: 16    labels:  [u'Energy', u'H', u'K', u'L', u'Epoch', u'Diode', u'TEY', u'I0', u'SDD1_OCR', u'SDD1_ICR', u'SDD2_OCR', u'SDD2_ICR', u'SDD3_OCR', u'SDD3_ICR', u'SDD4_OCR', u'SDD4_ICR', u'GratingUp', u'GratingDown', u'Timer', u'Clock', u'Clock']     The Command is:  ascan en 845 850 10 0.1     DateTime:  Fri Apr 29 16:03:25 2016\n",
      "\n",
      "Scan: 17    labels:  [u'Energy', u'H', u'K', u'L', u'Epoch', u'Diode', u'TEY', u'I0', u'SDD1_OCR', u'SDD1_ICR', u'SDD2_OCR', u'SDD2_ICR', u'SDD3_OCR', u'SDD3_ICR', u'SDD4_OCR', u'SDD4_ICR', u'GratingUp', u'GratingDown', u'Timer', u'Clock', u'Clock']     The Command is:  ascan en 845 850 10 0.1     DateTime:  Fri Apr 29 16:06:24 2016\n",
      "\n",
      "Scan: 18    labels:  [u'Hex_YP', u'H', u'K', u'L', u'Epoch', u'Diode', u'TEY', u'I0', u'SDD1_OCR', u'SDD1_ICR', u'SDD2_OCR', u'SDD2_ICR', u'SDD3_OCR', u'SDD3_ICR', u'SDD4_OCR', u'SDD4_ICR', u'GratingUp', u'GratingDown', u'Timer', u'Clock', u'Clock']     The Command is:  ascan hex_yp 2.5 2.9 50 1     DateTime:  Fri Apr 29 16:06:41 2016\n",
      "\n",
      "Scan: 19    labels:  [u'Hex_YP', u'H', u'K', u'L', u'Epoch', u'Diode', u'TEY', u'I0', u'SDD1_OCR', u'SDD1_ICR', u'SDD2_OCR', u'SDD2_ICR', u'SDD3_OCR', u'SDD3_ICR', u'SDD4_OCR', u'SDD4_ICR', u'GratingUp', u'GratingDown', u'Timer', u'Clock', u'Clock']     The Command is:  ascan hex_yp 2.5 2.9 50 0.1     DateTime:  Fri Apr 29 16:08:18 2016\n",
      "\n",
      "Scan: 20    labels:  [u'Hex_YP', u'H', u'K', u'L', u'Epoch', u'Diode', u'TEY', u'I0', u'SDD1_OCR', u'SDD1_ICR', u'SDD2_OCR', u'SDD2_ICR', u'SDD3_OCR', u'SDD3_ICR', u'SDD4_OCR', u'SDD4_ICR', u'GratingUp', u'GratingDown', u'Timer', u'Clock', u'Clock']     The Command is:  ascan hex_yp 2.5 2.9 50 0.1     DateTime:  Fri Apr 29 16:09:13 2016\n",
      "\n",
      "Scan: 21    labels:  [u'Hex_YP', u'H', u'K', u'L', u'Epoch', u'Diode', u'TEY', u'I0', u'SDD1_OCR', u'SDD1_ICR', u'SDD2_OCR', u'SDD2_ICR', u'SDD3_OCR', u'SDD3_ICR', u'SDD4_OCR', u'SDD4_ICR', u'GratingUp', u'GratingDown', u'Timer', u'Clock', u'Clock']     The Command is:  ascan hex_yp 2.5 2.9 20 0.1     DateTime:  Fri Apr 29 16:10:43 2016\n",
      "\n",
      "Scan: 22    labels:  [u'Hex_YP', u'H', u'K', u'L', u'Epoch', u'Diode', u'TEY', u'I0', u'SDD1_OCR', u'SDD1_ICR', u'SDD2_OCR', u'SDD2_ICR', u'SDD3_OCR', u'SDD3_ICR', u'SDD4_OCR', u'SDD4_ICR', u'GratingUp', u'GratingDown', u'Timer', u'Clock', u'Clock']     The Command is:  ascan hex_yp 2.5 2.9 20 0.1     DateTime:  Fri Apr 29 16:11:54 2016\n",
      "\n",
      "Scan: 23    labels:  [u'Hex_XP', u'Hex_YP', u'H', u'K', u'L', u'Epoch', u'Diode', u'TEY', u'I0', u'SDD1_OCR', u'SDD1_ICR', u'SDD2_OCR', u'SDD2_ICR', u'SDD3_OCR', u'SDD3_ICR', u'SDD4_OCR', u'SDD4_ICR', u'GratingUp', u'GratingDown', u'Timer', u'Clock', u'Clock']     The Command is:  mesh hex_xp 1.3 1.8 50 hex_yp 2.4 2.9 50 0.1     DateTime:  Fri Apr 29 16:13:39 2016\n",
      "\n",
      "Scan: 24    labels:  [u'Hex_YP', u'H', u'K', u'L', u'Epoch', u'Diode', u'TEY', u'I0', u'SDD1_OCR', u'SDD1_ICR', u'SDD2_OCR', u'SDD2_ICR', u'SDD3_OCR', u'SDD3_ICR', u'SDD4_OCR', u'SDD4_ICR', u'GratingUp', u'GratingDown', u'Timer', u'Clock', u'Clock']     The Command is:  ascan hex_yp 2.5 2.9 50 0.1     DateTime:  Fri Apr 29 16:52:01 2016\n",
      "\n",
      "Scan: 25    labels:  [u'Energy', u'H', u'K', u'L', u'Epoch', u'Diode', u'TEY', u'I0', u'SDD1_OCR', u'SDD1_ICR', u'SDD2_OCR', u'SDD2_ICR', u'SDD3_OCR', u'SDD3_ICR', u'SDD4_OCR', u'SDD4_ICR', u'GratingUp', u'GratingDown', u'Timer', u'Clock', u'Clock']     The Command is:  ascan en 840 870 50 0.1     DateTime:  Fri Apr 29 17:19:03 2016\n",
      "\n",
      "Scan: 26    labels:  [u'Energy', u'H', u'K', u'L', u'Epoch', u'Diode', u'TEY', u'I0', u'SDD1_OCR', u'SDD1_ICR', u'SDD2_OCR', u'SDD2_ICR', u'SDD3_OCR', u'SDD3_ICR', u'SDD4_OCR', u'SDD4_ICR', u'GratingUp', u'GratingDown', u'Timer', u'Clock', u'Clock']     The Command is:  ascan en 840 880 100 0.1     DateTime:  Fri Apr 29 17:37:38 2016\n",
      "\n",
      "Scan: 27    labels:  [u'Energy', u'H', u'K', u'L', u'Epoch', u'Diode', u'TEY', u'I0', u'SDD1_OCR', u'SDD1_ICR', u'SDD2_OCR', u'SDD2_ICR', u'SDD3_OCR', u'SDD3_ICR', u'SDD4_OCR', u'SDD4_ICR', u'GratingUp', u'GratingDown', u'Timer', u'Clock', u'Clock']     The Command is:  ascan en 840 880 100 0.1     DateTime:  Fri Apr 29 17:39:41 2016\n",
      "\n",
      "Scan: 28    labels:  [u'Energy', u'H', u'K', u'L', u'Epoch', u'Diode', u'TEY', u'I0', u'SDD1_OCR', u'SDD1_ICR', u'SDD2_OCR', u'SDD2_ICR', u'SDD3_OCR', u'SDD3_ICR', u'SDD4_OCR', u'SDD4_ICR', u'GratingUp', u'GratingDown', u'Timer', u'Clock', u'Clock']     The Command is:  ascan en 840 880 100 0.1     DateTime:  Fri Apr 29 17:46:59 2016\n",
      "\n",
      "Scan: 29    labels:  [u'Energy', u'H', u'K', u'L', u'Epoch', u'Diode', u'TEY', u'I0', u'SDD1_OCR', u'SDD1_ICR', u'SDD2_OCR', u'SDD2_ICR', u'SDD3_OCR', u'SDD3_ICR', u'SDD4_OCR', u'SDD4_ICR', u'GratingUp', u'GratingDown', u'Timer', u'Clock', u'Clock']     The Command is:  ascan en 840 880 100 0.1     DateTime:  Fri Apr 29 21:21:56 2016\n",
      "\n",
      "Scan: 30    labels:  [u'Energy', u'H', u'K', u'L', u'Epoch', u'Diode', u'TEY', u'I0', u'SDD1_OCR', u'SDD1_ICR', u'SDD2_OCR', u'SDD2_ICR', u'SDD3_OCR', u'SDD3_ICR', u'SDD4_OCR', u'SDD4_ICR', u'GratingUp', u'GratingDown', u'Timer', u'Clock', u'Clock']     The Command is:  ascan en 840 880 100 0.1     DateTime:  Fri Apr 29 21:24:45 2016\n",
      "\n",
      "Scan: 31    labels:  [u'Energy', u'H', u'K', u'L', u'Epoch', u'Diode', u'TEY', u'I0', u'SDD1_OCR', u'SDD1_ICR', u'SDD2_OCR', u'SDD2_ICR', u'SDD3_OCR', u'SDD3_ICR', u'SDD4_OCR', u'SDD4_ICR', u'GratingUp', u'GratingDown', u'Timer', u'Clock', u'Clock']     The Command is:  ascan en 840 880 100 0.1     DateTime:  Fri Apr 29 21:29:07 2016\n",
      "\n",
      "Scan: 32    labels:  [u'Energy', u'H', u'K', u'L', u'Epoch', u'Diode', u'TEY', u'I0', u'SDD1_OCR', u'SDD1_ICR', u'SDD2_OCR', u'SDD2_ICR', u'SDD3_OCR', u'SDD3_ICR', u'SDD4_OCR', u'SDD4_ICR', u'GratingUp', u'GratingDown', u'Timer', u'Clock', u'Clock']     The Command is:  ascan en 840 880 400 0.1     DateTime:  Fri Apr 29 21:31:37 2016\n",
      "\n",
      "Scan: 33    labels:  [u'Energy', u'H', u'K', u'L', u'Epoch', u'Diode', u'TEY', u'I0', u'SDD1_OCR', u'SDD1_ICR', u'SDD2_OCR', u'SDD2_ICR', u'SDD3_OCR', u'SDD3_ICR', u'SDD4_OCR', u'SDD4_ICR', u'GratingUp', u'GratingDown', u'Timer', u'Clock', u'Clock']     The Command is:  ascan en 840 880 400 0.1     DateTime:  Fri Apr 29 21:37:51 2016\n",
      "\n",
      "Scan: 34    labels:  [u'Hex_XP', u'Hex_YP', u'H', u'K', u'L', u'Epoch', u'Diode', u'TEY', u'I0', u'SDD1_OCR', u'SDD1_ICR', u'SDD2_OCR', u'SDD2_ICR', u'SDD3_OCR', u'SDD3_ICR', u'SDD4_OCR', u'SDD4_ICR', u'GratingUp', u'GratingDown', u'Timer', u'Clock', u'Clock']     The Command is:  cmesh hex_xp 0 3.5 5 hex_yp 1.4 3 50 0     DateTime:  Fri Apr 29 21:48:02 2016\n",
      "\n",
      "Scan: 35    labels:  [u'Hex_XP', u'Hex_YP', u'H', u'K', u'L', u'Epoch', u'Diode', u'TEY', u'I0', u'SDD1_OCR', u'SDD1_ICR', u'SDD2_OCR', u'SDD2_ICR', u'SDD3_OCR', u'SDD3_ICR', u'SDD4_OCR', u'SDD4_ICR', u'GratingUp', u'GratingDown', u'Timer', u'Clock', u'Clock']     The Command is:  cmesh hex_xp 1.2 1.9 5 hex_yp 2.6 2.9 50 0     DateTime:  Fri Apr 29 21:56:02 2016\n",
      "\n",
      "Scan: 36    labels:  [u'Hex_XP', u'Hex_YP', u'H', u'K', u'L', u'Epoch', u'Diode', u'TEY', u'I0', u'SDD1_OCR', u'SDD1_ICR', u'SDD2_OCR', u'SDD2_ICR', u'SDD3_OCR', u'SDD3_ICR', u'SDD4_OCR', u'SDD4_ICR', u'GratingUp', u'GratingDown', u'Timer', u'Clock', u'Clock']     The Command is:  cmesh hex_xp 1.2 1.9 5 hex_yp 2.6 2.9 50 0     DateTime:  Fri Apr 29 21:57:27 2016\n",
      "\n",
      "Scan: 37    labels:  [u'Hex_XP', u'Hex_YP', u'H', u'K', u'L', u'Epoch', u'Diode', u'TEY', u'I0', u'SDD1_OCR', u'SDD1_ICR', u'SDD2_OCR', u'SDD2_ICR', u'SDD3_OCR', u'SDD3_ICR', u'SDD4_OCR', u'SDD4_ICR', u'GratingUp', u'GratingDown', u'Timer', u'Clock', u'Clock']     The Command is:  mesh hex_xp 1.2 1.9 50 hex_yp 2.6 2.9 50 0.1     DateTime:  Fri Apr 29 22:01:14 2016\n",
      "\n",
      "Scan: 38    labels:  [u'Hex_XP', u'Hex_YP', u'H', u'K', u'L', u'Epoch', u'Diode', u'TEY', u'I0', u'SDD1_OCR', u'SDD1_ICR', u'SDD2_OCR', u'SDD2_ICR', u'SDD3_OCR', u'SDD3_ICR', u'SDD4_OCR', u'SDD4_ICR', u'GratingUp', u'GratingDown', u'Timer', u'Clock', u'Clock']     The Command is:  mesh hex_xp 1.2 1.9 50 hex_yp 2.6 2.9 50 0.1     DateTime:  Fri Apr 29 22:12:27 2016\n",
      "\n",
      "Scan: 39    labels:  [u'Hex_XP', u'Hex_YP', u'H', u'K', u'L', u'Epoch', u'Diode', u'TEY', u'I0', u'SDD1_OCR', u'SDD1_ICR', u'SDD2_OCR', u'SDD2_ICR', u'SDD3_OCR', u'SDD3_ICR', u'SDD4_OCR', u'SDD4_ICR', u'GratingUp', u'GratingDown', u'Timer', u'Clock', u'Clock']     The Command is:  cmesh hex_xp 1.2 1.9 5 hex_yp 2.6 2.9 50 0     DateTime:  Fri Apr 29 22:58:10 2016\n",
      "\n",
      "Scan: 40    labels:  [u'Hex_XP', u'Hex_YP', u'H', u'K', u'L', u'Epoch', u'Diode', u'TEY', u'I0', u'SDD1_OCR', u'SDD1_ICR', u'SDD2_OCR', u'SDD2_ICR', u'SDD3_OCR', u'SDD3_ICR', u'SDD4_OCR', u'SDD4_ICR', u'GratingUp', u'GratingDown', u'Timer', u'Clock', u'Clock']     The Command is:  mesh hex_xp 1.2 1.9 10 hex_yp 2.6 2.9 10 0.1     DateTime:  Fri Apr 29 23:00:25 2016\n",
      "\n"
     ]
    }
   ],
   "source": [
    "getBasicScanDetails(fileDirectory_2)"
   ]
  },
  {
   "cell_type": "code",
   "execution_count": null,
   "metadata": {
    "collapsed": true
   },
   "outputs": [],
   "source": []
  }
 ],
 "metadata": {
  "kernelspec": {
   "display_name": "Python 2",
   "language": "python",
   "name": "python2"
  },
  "language_info": {
   "codemirror_mode": {
    "name": "ipython",
    "version": 2
   },
   "file_extension": ".py",
   "mimetype": "text/x-python",
   "name": "python",
   "nbconvert_exporter": "python",
   "pygments_lexer": "ipython2",
   "version": "2.7.11"
  }
 },
 "nbformat": 4,
 "nbformat_minor": 0
}
