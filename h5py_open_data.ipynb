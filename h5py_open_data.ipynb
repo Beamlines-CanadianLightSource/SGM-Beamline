{
 "cells": [
  {
   "cell_type": "code",
   "execution_count": 1,
   "metadata": {
    "collapsed": false
   },
   "outputs": [
    {
     "name": "stdout",
     "output_type": "stream",
     "text": [
      "('List of arrays in this file: \\n', [u'S1', u'S10', u'S2', u'S3', u'S4', u'S5', u'S6', u'S7', u'S8', u'S9'])\n",
      "('Shape of the mca dataset: \\n', (5412L, 257L))\n"
     ]
    }
   ],
   "source": [
    "import numpy as np\n",
    "import h5py\n",
    " \n",
    "with h5py.File('C:/Users/hanr/GitHub/SGM-Beamline/data/spectra_example.hdf5','r') as hf:\n",
    "    print('List of arrays in this file: \\n', hf.keys())\n",
    "    data = hf.get('S1/data/_mca_')\n",
    "    np_data = np.array(data)\n",
    "    print('Shape of the mca dataset: \\n', np_data.shape)"
   ]
  },
  {
   "cell_type": "code",
   "execution_count": 2,
   "metadata": {
    "collapsed": false
   },
   "outputs": [],
   "source": [
    "array_mca1 = []\n",
    "array_mca2 = []\n",
    "array_mca3 = []\n",
    "array_mca4 = []\n",
    "for i in range (0, len(np_data)):\n",
    "    if np_data[i][0] == 1.0:\n",
    "        # get 256 values and exclude the first column in the dataset\n",
    "        array_mca1.append(np_data[i][1:257])\n",
    "    elif np_data[i][0] == 2.0:\n",
    "        array_mca2.append(np_data[i][1:257])\n",
    "    elif np_data[i][0] == 3.0:\n",
    "        array_mca3.append(np_data[i][1:257])\n",
    "    else:\n",
    "        array_mca4.append(np_data[i][1:257])"
   ]
  },
  {
   "cell_type": "code",
   "execution_count": 3,
   "metadata": {
    "collapsed": false
   },
   "outputs": [
    {
     "name": "stdout",
     "output_type": "stream",
     "text": [
      "('lenght of MCA1', 1353)\n",
      "('lenght of MCA2', 1353)\n",
      "('lenght of MCA3', 1353)\n",
      "('lenght of MCA4', 1353)\n"
     ]
    }
   ],
   "source": [
    "print (\"lenght of MCA1\", len(array_mca1))\n",
    "print (\"lenght of MCA2\", len(array_mca2))\n",
    "print (\"lenght of MCA3\", len(array_mca3))\n",
    "print (\"lenght of MCA4\", len(array_mca4))"
   ]
  },
  {
   "cell_type": "code",
   "execution_count": 4,
   "metadata": {
    "collapsed": false
   },
   "outputs": [
    {
     "name": "stdout",
     "output_type": "stream",
     "text": [
      "256\n"
     ]
    }
   ],
   "source": [
    "print (len(array_mca1[1352]))"
   ]
  },
  {
   "cell_type": "code",
   "execution_count": null,
   "metadata": {
    "collapsed": true
   },
   "outputs": [],
   "source": []
  }
 ],
 "metadata": {
  "kernelspec": {
   "display_name": "Python 2",
   "language": "python",
   "name": "python2"
  },
  "language_info": {
   "codemirror_mode": {
    "name": "ipython",
    "version": 2
   },
   "file_extension": ".py",
   "mimetype": "text/x-python",
   "name": "python",
   "nbconvert_exporter": "python",
   "pygments_lexer": "ipython2",
   "version": "2.7.11"
  }
 },
 "nbformat": 4,
 "nbformat_minor": 0
}
