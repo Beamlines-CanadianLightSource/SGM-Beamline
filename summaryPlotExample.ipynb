{
 "cells": [
  {
   "cell_type": "code",
   "execution_count": 1,
   "metadata": {
    "collapsed": false
   },
   "outputs": [],
   "source": [
    "from scripts.summary_plot import *"
   ]
  },
  {
   "cell_type": "code",
   "execution_count": 2,
   "metadata": {
    "collapsed": false
   },
   "outputs": [],
   "source": [
    "fileDirectory = get_abs_path(\"data/spectra_example.dat\")"
   ]
  },
  {
   "cell_type": "code",
   "execution_count": 3,
   "metadata": {
    "collapsed": false
   },
   "outputs": [
    {
     "name": "stdout",
     "output_type": "stream",
     "text": [
      "C Scan are including:  [1, 2, 3, 4, 5, 6, 7, 8, 9, 10]\n",
      "Total scan:  10\n",
      "Opened all scans.\n",
      "Generating plot for scan No. 1\n",
      "Generated plot for scan No. 1 completed\n",
      "Generating plot for scan No. 2\n",
      "Generated plot for scan No. 2 completed\n",
      "Generating plot for scan No. 3\n",
      "Generated plot for scan No. 3 completed\n",
      "Generating plot for scan No. 4\n",
      "Generated plot for scan No. 4 completed\n",
      "Generating plot for scan No. 5\n",
      "Generated plot for scan No. 5 completed\n",
      "Generating plot for scan No. 6\n",
      "Generated plot for scan No. 6 completed\n",
      "Generating plot for scan No. 7\n",
      "Generated plot for scan No. 7 completed\n",
      "Generating plot for scan No. 8\n",
      "Generated plot for scan No. 8 completed\n",
      "Generating plot for scan No. 9\n",
      "Generated plot for scan No. 9 completed\n",
      "Generating plot for scan No. 10\n",
      "Generated plot for scan No. 10 completed\n"
     ]
    }
   ],
   "source": [
    "summary_plot(fileDirectory,\"TEY\")"
   ]
  },
  {
   "cell_type": "code",
   "execution_count": 4,
   "metadata": {
    "collapsed": false
   },
   "outputs": [
    {
     "name": "stdout",
     "output_type": "stream",
     "text": [
      "C Scan are including:  [1, 2, 3, 4, 5, 6, 7, 8, 9, 10]\n",
      "Total scan:  10\n",
      "Opened all scans.\n",
      "Generating plot for scan No. 1\n",
      "Generated plot for scan No. 1 completed\n",
      "Generating plot for scan No. 2\n",
      "Generated plot for scan No. 2 completed\n",
      "Generating plot for scan No. 3\n",
      "Generated plot for scan No. 3 completed\n",
      "Generating plot for scan No. 4\n",
      "Generated plot for scan No. 4 completed\n",
      "Generating plot for scan No. 5\n",
      "Generated plot for scan No. 5 completed\n",
      "Generating plot for scan No. 6\n",
      "Generated plot for scan No. 6 completed\n",
      "Generating plot for scan No. 7\n",
      "Generated plot for scan No. 7 completed\n",
      "Generating plot for scan No. 8\n",
      "Generated plot for scan No. 8 completed\n",
      "Generating plot for scan No. 9\n",
      "Generated plot for scan No. 9 completed\n",
      "Generating plot for scan No. 10\n",
      "Generated plot for scan No. 10 completed\n"
     ]
    }
   ],
   "source": [
    "# it is I zero, not IO\n",
    "summary_plot(fileDirectory,\"SDD2_ICR\")"
   ]
  },
  {
   "cell_type": "code",
   "execution_count": null,
   "metadata": {
    "collapsed": true
   },
   "outputs": [],
   "source": []
  }
 ],
 "metadata": {
  "kernelspec": {
   "display_name": "Python 2",
   "language": "python",
   "name": "python2"
  },
  "language_info": {
   "codemirror_mode": {
    "name": "ipython",
    "version": 2
   },
   "file_extension": ".py",
   "mimetype": "text/x-python",
   "name": "python",
   "nbconvert_exporter": "python",
   "pygments_lexer": "ipython2",
   "version": "2.7.11"
  }
 },
 "nbformat": 4,
 "nbformat_minor": 0
}
