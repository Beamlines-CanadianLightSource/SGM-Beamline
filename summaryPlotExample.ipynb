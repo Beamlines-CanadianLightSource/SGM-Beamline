{
 "cells": [
  {
   "cell_type": "code",
   "execution_count": 1,
   "metadata": {
    "collapsed": false
   },
   "outputs": [],
   "source": [
    "import os\n",
    "from scripts.summary_plot import *"
   ]
  },
  {
   "cell_type": "code",
   "execution_count": 2,
   "metadata": {
    "collapsed": false
   },
   "outputs": [
    {
     "name": "stdout",
     "output_type": "stream",
     "text": [
      "C:\\Users\\hanr\\GitHub\\SGM-Beamline\\data/spectra_example.dat\n"
     ]
    }
   ],
   "source": [
    "script_dir = os.path.dirname(os.path.realpath('__file__'))\n",
    "rel_path = \"data/spectra_example.dat\"\n",
    "fileDirectory = os.path.join(script_dir, rel_path)\n",
    "print fileDirectory"
   ]
  },
  {
   "cell_type": "code",
   "execution_count": 3,
   "metadata": {
    "collapsed": false
   },
   "outputs": [
    {
     "name": "stdout",
     "output_type": "stream",
     "text": [
      "Total scan:  10\n",
      "index of the for loop is:  0\n",
      "Scan No. 1\n",
      "Parsing MCAs\n",
      "Done!\n",
      "index of the for loop is:  1\n",
      "Scan No. 2\n",
      "Parsing MCAs\n",
      "Done!\n",
      "index of the for loop is:  2\n",
      "Scan No. 3\n",
      "Parsing MCAs\n",
      "Done!\n",
      "index of the for loop is:  3\n",
      "Scan No. 4\n",
      "Parsing MCAs\n",
      "Done!\n",
      "index of the for loop is:  4\n",
      "Scan No. 5\n",
      "Parsing MCAs\n",
      "Done!\n",
      "index of the for loop is:  5\n",
      "Scan No. 6\n",
      "Parsing MCAs\n",
      "Done!\n",
      "index of the for loop is:  6\n",
      "Scan No. 7\n",
      "Parsing MCAs\n",
      "Done!\n",
      "index of the for loop is:  7\n",
      "Scan No. 8\n",
      "Parsing MCAs\n",
      "Done!\n",
      "index of the for loop is:  8\n",
      "Scan No. 9\n",
      "Parsing MCAs\n",
      "Done!\n",
      "index of the for loop is:  9\n",
      "Scan No. 10\n",
      "Parsing MCAs\n",
      "Done!\n",
      "Total Scan Number is: 10\n",
      "Generating plot for scan No. 1\n",
      "Generated plot for scan No. 1 completed\n",
      "Generating plot for scan No. 2\n",
      "Generated plot for scan No. 2 completed\n",
      "Generating plot for scan No. 3\n",
      "Generated plot for scan No. 3 completed\n",
      "Generating plot for scan No. 4\n",
      "Generated plot for scan No. 4 completed\n",
      "Generating plot for scan No. 5\n",
      "Generated plot for scan No. 5 completed\n",
      "Generating plot for scan No. 6\n",
      "Generated plot for scan No. 6 completed\n",
      "Generating plot for scan No. 7\n",
      "Generated plot for scan No. 7 completed\n",
      "Generating plot for scan No. 8\n",
      "Generated plot for scan No. 8 completed\n",
      "Generating plot for scan No. 9\n",
      "Generated plot for scan No. 9 completed\n",
      "Generating plot for scan No. 10\n",
      "Generated plot for scan No. 10 completed\n"
     ]
    }
   ],
   "source": [
    "generateSummaryPlot(fileDirectory)"
   ]
  },
  {
   "cell_type": "code",
   "execution_count": null,
   "metadata": {
    "collapsed": true
   },
   "outputs": [],
   "source": []
  }
 ],
 "metadata": {
  "kernelspec": {
   "display_name": "Python 2",
   "language": "python",
   "name": "python2"
  },
  "language_info": {
   "codemirror_mode": {
    "name": "ipython",
    "version": 2
   },
   "file_extension": ".py",
   "mimetype": "text/x-python",
   "name": "python",
   "nbconvert_exporter": "python",
   "pygments_lexer": "ipython2",
   "version": "2.7.11"
  }
 },
 "nbformat": 4,
 "nbformat_minor": 0
}
