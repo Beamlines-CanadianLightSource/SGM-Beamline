{
 "cells": [
  {
   "cell_type": "code",
   "execution_count": 1,
   "metadata": {
    "collapsed": false
   },
   "outputs": [],
   "source": [
    "import os\n",
    "from scripts.scan_details import *"
   ]
  },
  {
   "cell_type": "markdown",
   "metadata": {},
   "source": [
    "## Example of using checkFileType method"
   ]
  },
  {
   "cell_type": "code",
   "execution_count": 2,
   "metadata": {
    "collapsed": false
   },
   "outputs": [
    {
     "name": "stdout",
     "output_type": "stream",
     "text": [
      "C:\\Users\\hanr\\GitHub\\SGM-Beamline\\data/spectra_example.dat\n"
     ]
    }
   ],
   "source": [
    "script_dir = os.path.dirname(os.path.realpath('__file__'))\n",
    "rel_path = \"data/spectra_example.dat\"\n",
    "fileDirectory_1 = os.path.join(script_dir, rel_path)\n",
    "print fileDirectory_1"
   ]
  },
  {
   "cell_type": "code",
   "execution_count": 3,
   "metadata": {
    "collapsed": false
   },
   "outputs": [
    {
     "data": {
      "text/plain": [
       "'This is the data file of spectra.'"
      ]
     },
     "execution_count": 3,
     "metadata": {},
     "output_type": "execute_result"
    }
   ],
   "source": [
    "checkFileType(fileDirectory_1)"
   ]
  },
  {
   "cell_type": "code",
   "execution_count": 4,
   "metadata": {
    "collapsed": false
   },
   "outputs": [
    {
     "name": "stdout",
     "output_type": "stream",
     "text": [
      "C:\\Users\\hanr\\GitHub\\SGM-Beamline\\data/diffscan_example.dat\n"
     ]
    }
   ],
   "source": [
    "script_dir = os.path.dirname(os.path.realpath('__file__'))\n",
    "# please change name of the data file\n",
    "rel_path = \"data/diffscan_example.dat\"\n",
    "# get absolute path\n",
    "fileDirectory_2 = os.path.join(script_dir, rel_path)\n",
    "print fileDirectory_2"
   ]
  },
  {
   "cell_type": "code",
   "execution_count": 5,
   "metadata": {
    "collapsed": false
   },
   "outputs": [
    {
     "data": {
      "text/plain": [
       "'This is a map data file.'"
      ]
     },
     "execution_count": 5,
     "metadata": {},
     "output_type": "execute_result"
    }
   ],
   "source": [
    "checkFileType(fileDirectory_2)"
   ]
  },
  {
   "cell_type": "markdown",
   "metadata": {
    "collapsed": true
   },
   "source": [
    "## Example of using getBasicScanDetails method"
   ]
  },
  {
   "cell_type": "code",
   "execution_count": 6,
   "metadata": {
    "collapsed": false
   },
   "outputs": [
    {
     "name": "stdout",
     "output_type": "stream",
     "text": [
      "Scan: 1     The Command is:  cscan en 690 750 60 0     DateTime:  Sun May 15 11:20:24 2016\n",
      "\n",
      "Scan: 2     The Command is:  cscan en 690 750 60 0     DateTime:  Sun May 15 11:21:34 2016\n",
      "\n",
      "Scan: 3     The Command is:  cscan en 690 750 60 0     DateTime:  Sun May 15 11:22:45 2016\n",
      "\n",
      "Scan: 4     The Command is:  cscan en 690 750 60 0     DateTime:  Sun May 15 11:23:55 2016\n",
      "\n",
      "Scan: 5     The Command is:  cscan en 690 750 60 0     DateTime:  Sun May 15 11:25:05 2016\n",
      "\n",
      "Scan: 6     The Command is:  cscan en 690 750 60 0     DateTime:  Sun May 15 11:26:16 2016\n",
      "\n",
      "Scan: 7     The Command is:  cscan en 690 750 60 0     DateTime:  Sun May 15 11:27:26 2016\n",
      "\n",
      "Scan: 8     The Command is:  cscan en 690 750 60 0     DateTime:  Sun May 15 11:28:36 2016\n",
      "\n",
      "Scan: 9     The Command is:  cscan en 690 750 60 0     DateTime:  Sun May 15 11:29:47 2016\n",
      "\n",
      "Scan: 10     The Command is:  cscan en 690 750 60 0     DateTime:  Sun May 15 11:30:57 2016\n",
      "\n"
     ]
    }
   ],
   "source": [
    "getBasicScanDetails(fileDirectory_1)"
   ]
  },
  {
   "cell_type": "code",
   "execution_count": 7,
   "metadata": {
    "collapsed": false
   },
   "outputs": [
    {
     "name": "stdout",
     "output_type": "stream",
     "text": [
      "Scan: 1     The Command is:  cmesh hex_xp 1.76 1.84 10 hex_yp -2.95 -3.05 50 0.1     DateTime:  Fri May 20 13:58:09 2016\n",
      "\n",
      "Scan: 2     The Command is:  cmesh hex_xp 1.76 1.84 10 hex_yp -2.95 -3.05 50 0.1     DateTime:  Fri May 20 14:27:40 2016\n",
      "\n",
      "Scan: 3     The Command is:  cmesh hex_xp 1.76 1.84 30 hex_yp -2.95 -3.05 50 0.1     DateTime:  Fri May 20 14:28:22 2016\n",
      "\n",
      "Scan: 4     The Command is:  cscan en 2120 2200 60 0.1     DateTime:  Fri May 20 14:46:57 2016\n",
      "\n",
      "Scan: 5     The Command is:  cscan en 2120 2200 60 0.1     DateTime:  Fri May 20 14:51:00 2016\n",
      "\n",
      "Scan: 6     The Command is:  cscan en 2100 2200 60 0.1     DateTime:  Fri May 20 14:52:38 2016\n",
      "\n",
      "Scan: 7     The Command is:  ascan en 2100 2200 50 0.5     DateTime:  Fri May 20 14:54:25 2016\n",
      "\n",
      "Scan: 8     The Command is:  cscan en 2000 2200 60 0.1     DateTime:  Fri May 20 15:02:23 2016\n",
      "\n",
      "Scan: 9     The Command is:  cscan en 2080 2240 60 0.1     DateTime:  Fri May 20 15:03:57 2016\n",
      "\n",
      "Scan: 10     The Command is:  cscan en 2080 2140 60 0.1     DateTime:  Fri May 20 15:05:22 2016\n",
      "\n"
     ]
    }
   ],
   "source": [
    "getBasicScanDetails(fileDirectory_2)"
   ]
  },
  {
   "cell_type": "code",
   "execution_count": 8,
   "metadata": {
    "collapsed": false
   },
   "outputs": [
    {
     "name": "stdout",
     "output_type": "stream",
     "text": [
      "Scan No. 1\n",
      "Scan No. 2\n",
      "Scan No. 3\n",
      "Scan No. 4\n",
      "Scan No. 5\n",
      "Scan No. 6\n",
      "Scan No. 7\n",
      "Scan No. 8\n",
      "Scan No. 9\n",
      "Scan No. 10\n",
      "C Scan is:  [4, 5, 6, 8, 9, 10]\n",
      "A Scan is:  [7]\n",
      "C Mesh Scan is:  [1, 2, 3]\n",
      "Mesh Scan is:  []\n"
     ]
    }
   ],
   "source": [
    "scan_num_array = check_scan_variety(fileDirectory_2)\n",
    "print \"C Scan is: \", scan_num_array[0]\n",
    "print \"A Scan is: \", scan_num_array[1]\n",
    "print \"C Mesh Scan is: \", scan_num_array[2]\n",
    "print \"Mesh Scan is: \", scan_num_array[3]"
   ]
  },
  {
   "cell_type": "code",
   "execution_count": null,
   "metadata": {
    "collapsed": true
   },
   "outputs": [],
   "source": []
  }
 ],
 "metadata": {
  "kernelspec": {
   "display_name": "Python 2",
   "language": "python",
   "name": "python2"
  },
  "language_info": {
   "codemirror_mode": {
    "name": "ipython",
    "version": 2
   },
   "file_extension": ".py",
   "mimetype": "text/x-python",
   "name": "python",
   "nbconvert_exporter": "python",
   "pygments_lexer": "ipython2",
   "version": "2.7.11"
  }
 },
 "nbformat": 4,
 "nbformat_minor": 0
}
