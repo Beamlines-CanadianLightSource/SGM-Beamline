{
 "cells": [
  {
   "cell_type": "code",
   "execution_count": 1,
   "metadata": {
    "collapsed": false
   },
   "outputs": [
    {
     "name": "stderr",
     "output_type": "stream",
     "text": [
      "C:\\Program Files\\Anaconda2\\lib\\site-packages\\IPython\\html.py:14: ShimWarning: The `IPython.html` package has been deprecated. You should import from `notebook` instead. `IPython.html.widgets` has moved to `ipywidgets`.\n",
      "  \"`IPython.html.widgets` has moved to `ipywidgets`.\", ShimWarning)\n"
     ]
    }
   ],
   "source": [
    "import os\n",
    "import matplotlib\n",
    "from IPython.display import display\n",
    "from IPython.html import widgets\n",
    "from scripts.summary_plot import *\n",
    "from scripts.average_plot import *"
   ]
  },
  {
   "cell_type": "code",
   "execution_count": 2,
   "metadata": {
    "collapsed": false
   },
   "outputs": [
    {
     "name": "stdout",
     "output_type": "stream",
     "text": [
      "C:\\Users\\hanr\\GitHub\\SGM-Beamline\\data/spectra_example.dat\n"
     ]
    }
   ],
   "source": [
    "# fileDirectory = 'C:/Users/hanr/Desktop/PyScripts/yongfeng.dat'\n",
    "# print fileDirectory\n",
    "script_dir = os.path.dirname(os.path.realpath('__file__'))\n",
    "rel_path = \"data/spectra_example.dat\"\n",
    "fileDirectory = os.path.join(script_dir, rel_path)\n",
    "print fileDirectory"
   ]
  },
  {
   "cell_type": "code",
   "execution_count": 3,
   "metadata": {
    "collapsed": false
   },
   "outputs": [
    {
     "name": "stdout",
     "output_type": "stream",
     "text": [
      "[1, 2, 3, 4, 5, 6, 7, 8, 9, 10]\n"
     ]
    }
   ],
   "source": [
    "scanNumArray = getAllScanNum(fileDirectory)\n",
    "print scanNumArray"
   ]
  },
  {
   "cell_type": "code",
   "execution_count": 4,
   "metadata": {
    "collapsed": false
   },
   "outputs": [
    {
     "name": "stdout",
     "output_type": "stream",
     "text": [
      "4, 7\n"
     ]
    }
   ],
   "source": [
    "inputText = widgets.Text()\n",
    "\n",
    "def generateArray(sender):\n",
    "\n",
    "    print inputText.value\n",
    "    \n",
    "inputText.on_submit(generateArray)\n",
    "inputText"
   ]
  },
  {
   "cell_type": "code",
   "execution_count": 5,
   "metadata": {
    "collapsed": false
   },
   "outputs": [
    {
     "name": "stdout",
     "output_type": "stream",
     "text": [
      "These are the original scan numbers:  [1, 2, 3, 4, 5, 6, 7, 8, 9, 10]\n",
      "\n",
      "These are bad scan numbers:  [4, 7]\n",
      "\n",
      "These are all good scan numbers:  [1, 2, 3, 5, 6, 8, 9, 10]\n"
     ]
    }
   ],
   "source": [
    "badScan = inputText.value\n",
    "goodScan = generateGoodScanArray(scanNumArray, badScan)"
   ]
  },
  {
   "cell_type": "code",
   "execution_count": 6,
   "metadata": {
    "collapsed": false
   },
   "outputs": [
    {
     "name": "stdout",
     "output_type": "stream",
     "text": [
      "Total scan:  10\n",
      "index of the for loop is:  0\n",
      "Scan No. 1\n",
      "Parsing MCAs\n",
      "Done!\n",
      "index of the for loop is:  1\n",
      "Scan No. 2\n",
      "Parsing MCAs\n",
      "Done!\n",
      "index of the for loop is:  2\n",
      "Scan No. 3\n",
      "Parsing MCAs\n",
      "Done!\n",
      "index of the for loop is:  3\n",
      "Scan No. 4\n",
      "Parsing MCAs\n",
      "Done!\n",
      "index of the for loop is:  4\n",
      "Scan No. 5\n",
      "Parsing MCAs\n",
      "Done!\n",
      "index of the for loop is:  5\n",
      "Scan No. 6\n",
      "Parsing MCAs\n",
      "Done!\n",
      "index of the for loop is:  6\n",
      "Scan No. 7\n",
      "Parsing MCAs\n",
      "Done!\n",
      "index of the for loop is:  7\n",
      "Scan No. 8\n",
      "Parsing MCAs\n",
      "Done!\n",
      "index of the for loop is:  8\n",
      "Scan No. 9\n",
      "Parsing MCAs\n",
      "Done!\n",
      "index of the for loop is:  9\n",
      "Scan No. 10\n",
      "Parsing MCAs\n",
      "Done!\n"
     ]
    }
   ],
   "source": [
    "arrayofDataPoint = getGoodDataPoints(goodScan, fileDirectory)"
   ]
  },
  {
   "cell_type": "code",
   "execution_count": 7,
   "metadata": {
    "collapsed": false
   },
   "outputs": [
    {
     "name": "stdout",
     "output_type": "stream",
     "text": [
      "60\n"
     ]
    }
   ],
   "source": [
    "num_of_edges = 101\n",
    "num_of_bins = num_of_edges - 1\n",
    "edges_array = createBins(690, 750, num_of_edges)"
   ]
  },
  {
   "cell_type": "code",
   "execution_count": 8,
   "metadata": {
    "collapsed": false
   },
   "outputs": [
    {
     "name": "stdout",
     "output_type": "stream",
     "text": [
      "[ 690.   690.6  691.2  691.8  692.4  693.   693.6  694.2  694.8  695.4\n",
      "  696.   696.6  697.2  697.8  698.4  699.   699.6  700.2  700.8  701.4\n",
      "  702.   702.6  703.2  703.8  704.4  705.   705.6  706.2  706.8  707.4\n",
      "  708.   708.6  709.2  709.8  710.4  711.   711.6  712.2  712.8  713.4\n",
      "  714.   714.6  715.2  715.8  716.4  717.   717.6  718.2  718.8  719.4\n",
      "  720.   720.6  721.2  721.8  722.4  723.   723.6  724.2  724.8  725.4\n",
      "  726.   726.6  727.2  727.8  728.4  729.   729.6  730.2  730.8  731.4\n",
      "  732.   732.6  733.2  733.8  734.4  735.   735.6  736.2  736.8  737.4\n",
      "  738.   738.6  739.2  739.8  740.4  741.   741.6  742.2  742.8  743.4\n",
      "  744.   744.6  745.2  745.8  746.4  747.   747.6  748.2  748.8  749.4\n",
      "  750. ]\n"
     ]
    }
   ],
   "source": [
    "print edges_array"
   ]
  },
  {
   "cell_type": "code",
   "execution_count": 9,
   "metadata": {
    "collapsed": false
   },
   "outputs": [
    {
     "name": "stdout",
     "output_type": "stream",
     "text": [
      "The width of a bin is: 0.6\n",
      "Start assigning data points into bins\n",
      "Assign data points completed\n"
     ]
    }
   ],
   "source": [
    "arrayOfBins = AssignData(arrayofDataPoint , edges_array)"
   ]
  },
  {
   "cell_type": "code",
   "execution_count": 10,
   "metadata": {
    "collapsed": false
   },
   "outputs": [
    {
     "name": "stdout",
     "output_type": "stream",
     "text": [
      "[[0, 0], [0, 1], [0, 2], [0, 3], [0, 4], [0, 5], [0, 6], [0, 7], [0, 8], [0, 9], [0, 10], [0, 11], [0, 12], [0, 13], [0, 14], [0, 15], [0, 16], [0, 17], [1, 0], [1, 1], [1, 2], [1, 3], [1, 4], [1, 5], [1, 6], [1, 7], [1, 8], [1, 9], [1, 10], [1, 11], [1, 12], [1, 13], [1, 14], [1, 15], [1, 16], [1, 17], [1, 18], [1, 19], [1, 20], [2, 0], [2, 1], [2, 2], [2, 3], [2, 4], [2, 5], [2, 6], [2, 7], [2, 8], [2, 9], [2, 10], [2, 11], [2, 12], [2, 13], [2, 14], [2, 15], [2, 16], [2, 17], [2, 18], [2, 19], [2, 20], [2, 21], [2, 22], [3, 0], [3, 1], [3, 2], [3, 3], [3, 4], [3, 5], [3, 6], [3, 7], [3, 8], [3, 9], [3, 10], [3, 11], [3, 12], [3, 13], [3, 14], [3, 15], [3, 16], [3, 17], [3, 18], [3, 19], [3, 20], [4, 0], [4, 1], [4, 2], [4, 3], [4, 4], [4, 5], [4, 6], [4, 7], [4, 8], [4, 9], [4, 10], [4, 11], [4, 12], [4, 13], [4, 14], [4, 15], [4, 16], [4, 17], [4, 18], [4, 19], [4, 20], [4, 21], [4, 22], [5, 0], [5, 1], [5, 2], [5, 3], [5, 4], [5, 5], [5, 6], [5, 7], [5, 8], [5, 9], [5, 10], [5, 11], [5, 12], [5, 13], [5, 14], [5, 15], [5, 16], [5, 17], [5, 18], [6, 0], [6, 1], [6, 2], [6, 3], [6, 4], [6, 5], [6, 6], [6, 7], [6, 8], [6, 9], [6, 10], [6, 11], [6, 12], [6, 13], [6, 14], [6, 15], [6, 16], [6, 17], [6, 18], [7, 0], [7, 1], [7, 2], [7, 3], [7, 4], [7, 5], [7, 6], [7, 7], [7, 8], [7, 9], [7, 10], [7, 11], [7, 12], [7, 13], [7, 14], [7, 15], [7, 16], [7, 17], [7, 18]]\n"
     ]
    }
   ],
   "source": [
    "print arrayOfBins[0]"
   ]
  },
  {
   "cell_type": "code",
   "execution_count": 11,
   "metadata": {
    "collapsed": false
   },
   "outputs": [
    {
     "name": "stdout",
     "output_type": "stream",
     "text": [
      "100\n"
     ]
    }
   ],
   "source": [
    "print len(arrayOfBins)"
   ]
  },
  {
   "cell_type": "markdown",
   "metadata": {},
   "source": [
    "## Calculate and Plot the average of MCA"
   ]
  },
  {
   "cell_type": "code",
   "execution_count": 12,
   "metadata": {
    "collapsed": false
   },
   "outputs": [
    {
     "name": "stdout",
     "output_type": "stream",
     "text": [
      "Start calcualting Average of MCA1, MCA2, MCA3 & MCA4...\n",
      "Calculation completed.\n"
     ]
    }
   ],
   "source": [
    "avg_mca = calculateAvgMCA(arrayOfBins, arrayofDataPoint)"
   ]
  },
  {
   "cell_type": "code",
   "execution_count": 13,
   "metadata": {
    "collapsed": false
   },
   "outputs": [
    {
     "name": "stdout",
     "output_type": "stream",
     "text": [
      "Start calcualting Average of I0, TEY & Diode...\n",
      "Calculation completed.\n"
     ]
    }
   ],
   "source": [
    "avg_scaler= calculateAvgOfScalers (arrayOfBins, arrayofDataPoint)"
   ]
  },
  {
   "cell_type": "code",
   "execution_count": 14,
   "metadata": {
    "collapsed": false
   },
   "outputs": [
    {
     "name": "stdout",
     "output_type": "stream",
     "text": [
      "Getting PFY ROIs\n"
     ]
    }
   ],
   "source": [
    "pyf_data = getPFY_Avg(avg_mca, 60, 80)"
   ]
  },
  {
   "cell_type": "code",
   "execution_count": 15,
   "metadata": {
    "collapsed": false
   },
   "outputs": [
    {
     "name": "stdout",
     "output_type": "stream",
     "text": [
      "690.3\n",
      "[690.29999999999995, 690.39999999999998, 690.5, 690.59999999999991, 690.69999999999993, 690.79999999999995, 690.89999999999998, 691.0, 691.09999999999991, 691.19999999999993, 691.29999999999995, 691.39999999999998, 691.5, 691.59999999999991, 691.69999999999993, 691.79999999999995, 691.89999999999998, 692.0, 692.09999999999991, 692.19999999999993, 692.29999999999995, 692.39999999999998, 692.5, 692.59999999999991, 692.69999999999993, 692.79999999999995, 692.89999999999998, 693.0, 693.09999999999991, 693.19999999999993, 693.29999999999995, 693.39999999999998, 693.5, 693.59999999999991, 693.69999999999993, 693.79999999999995, 693.89999999999998, 694.0, 694.09999999999991, 694.19999999999993, 694.29999999999995, 694.39999999999998, 694.5, 694.59999999999991, 694.69999999999993, 694.79999999999995, 694.89999999999998, 695.0, 695.09999999999991, 695.19999999999993, 695.29999999999995, 695.39999999999998, 695.5, 695.59999999999991, 695.69999999999993, 695.79999999999995, 695.89999999999998, 696.0, 696.09999999999991, 696.19999999999993, 696.29999999999995, 696.39999999999998, 696.5, 696.59999999999991, 696.69999999999993, 696.79999999999995, 696.89999999999998, 697.0, 697.09999999999991, 697.19999999999993, 697.29999999999995, 697.39999999999998, 697.5, 697.59999999999991, 697.69999999999993, 697.79999999999995, 697.89999999999998, 698.0, 698.09999999999991, 698.19999999999993, 698.29999999999995, 698.39999999999998, 698.5, 698.59999999999991, 698.69999999999993, 698.79999999999995, 698.89999999999998, 699.0, 699.09999999999991, 699.19999999999993, 699.29999999999995, 699.39999999999998, 699.5, 699.59999999999991, 699.69999999999993, 699.79999999999995, 699.89999999999998, 700.0, 700.09999999999991, 700.19999999999993]\n"
     ]
    }
   ],
   "source": [
    "mean_energy_array = []\n",
    "first_mean = (edges_array[1] + edges_array[0]) / 2\n",
    "print first_mean\n",
    "bin_width = edges_array[1] - edges_array[0]\n",
    "for i in range (0, num_of_edges-1):\n",
    "    mean_energy_array.append(first_mean + 0.1 * i)\n",
    "print mean_energy_array"
   ]
  },
  {
   "cell_type": "code",
   "execution_count": 16,
   "metadata": {
    "collapsed": false
   },
   "outputs": [
    {
     "name": "stdout",
     "output_type": "stream",
     "text": [
      "Plotting XAS.\n"
     ]
    }
   ],
   "source": [
    "plotAvgXAS_all(mean_energy_array, avg_scaler, pyf_data)"
   ]
  },
  {
   "cell_type": "code",
   "execution_count": 17,
   "metadata": {
    "collapsed": false
   },
   "outputs": [],
   "source": [
    "#plot avg of Mac 1 in color scatter plot\n",
    "plotAvgOfMAC(num_of_bins, avg_mca[1])"
   ]
  },
  {
   "cell_type": "code",
   "execution_count": 18,
   "metadata": {
    "collapsed": false
   },
   "outputs": [],
   "source": [
    "plot_one_avg_scaler(mean_energy_array, avg_scaler[1], \"TEY\")"
   ]
  },
  {
   "cell_type": "code",
   "execution_count": null,
   "metadata": {
    "collapsed": true
   },
   "outputs": [],
   "source": []
  }
 ],
 "metadata": {
  "kernelspec": {
   "display_name": "Python 2",
   "language": "python",
   "name": "python2"
  },
  "language_info": {
   "codemirror_mode": {
    "name": "ipython",
    "version": 2
   },
   "file_extension": ".py",
   "mimetype": "text/x-python",
   "name": "python",
   "nbconvert_exporter": "python",
   "pygments_lexer": "ipython2",
   "version": "2.7.11"
  }
 },
 "nbformat": 4,
 "nbformat_minor": 0
}
