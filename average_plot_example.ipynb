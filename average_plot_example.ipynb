{
 "cells": [
  {
   "cell_type": "code",
   "execution_count": 1,
   "metadata": {
    "collapsed": false
   },
   "outputs": [
    {
     "name": "stderr",
     "output_type": "stream",
     "text": [
      "C:\\Program Files\\Anaconda2\\lib\\site-packages\\IPython\\html.py:14: ShimWarning: The `IPython.html` package has been deprecated. You should import from `notebook` instead. `IPython.html.widgets` has moved to `ipywidgets`.\n",
      "  \"`IPython.html.widgets` has moved to `ipywidgets`.\", ShimWarning)\n"
     ]
    }
   ],
   "source": [
    "import os\n",
    "import matplotlib\n",
    "from IPython.display import display\n",
    "from IPython.html import widgets\n",
    "from scripts.summary_plot import *\n",
    "from scripts.average_plot import *"
   ]
  },
  {
   "cell_type": "code",
   "execution_count": 2,
   "metadata": {
    "collapsed": false
   },
   "outputs": [
    {
     "name": "stdout",
     "output_type": "stream",
     "text": [
      "C:\\Users\\hanr\\GitHub\\SGM-Beamline\\data/spectra_example.dat\n"
     ]
    }
   ],
   "source": [
    "# fileDirectory = 'C:/Users/hanr/Desktop/PyScripts/yongfeng.dat'\n",
    "# print fileDirectory\n",
    "script_dir = os.path.dirname(os.path.realpath('__file__'))\n",
    "rel_path = \"data/spectra_example.dat\"\n",
    "fileDirectory = os.path.join(script_dir, rel_path)\n",
    "print fileDirectory"
   ]
  },
  {
   "cell_type": "code",
   "execution_count": 3,
   "metadata": {
    "collapsed": false
   },
   "outputs": [
    {
     "name": "stdout",
     "output_type": "stream",
     "text": [
      "[1, 2, 3, 4, 5, 6, 7, 8, 9, 10]\n"
     ]
    }
   ],
   "source": [
    "scanNumArray = getAllScanNum(fileDirectory)\n",
    "print scanNumArray"
   ]
  },
  {
   "cell_type": "code",
   "execution_count": 4,
   "metadata": {
    "collapsed": false
   },
   "outputs": [
    {
     "name": "stdout",
     "output_type": "stream",
     "text": [
      "\n"
     ]
    }
   ],
   "source": [
    "inputText = widgets.Text()\n",
    "\n",
    "def generateArray(sender):\n",
    "\n",
    "    print inputText.value\n",
    "    \n",
    "inputText.on_submit(generateArray)\n",
    "inputText"
   ]
  },
  {
   "cell_type": "code",
   "execution_count": 5,
   "metadata": {
    "collapsed": false
   },
   "outputs": [
    {
     "name": "stdout",
     "output_type": "stream",
     "text": [
      "These are the original scan numbers:  [1, 2, 3, 4, 5, 6, 7, 8, 9, 10]\n",
      "\n"
     ]
    }
   ],
   "source": [
    "bad_scan = inputText.value\n",
    "good_scan = generateGoodScanArray(scanNumArray, bad_scan)"
   ]
  },
  {
   "cell_type": "markdown",
   "metadata": {},
   "source": [
    "## open the data file"
   ]
  },
  {
   "cell_type": "code",
   "execution_count": 6,
   "metadata": {
    "collapsed": false
   },
   "outputs": [],
   "source": [
    "opened_file = openDataFile(fileDirectory)"
   ]
  },
  {
   "cell_type": "markdown",
   "metadata": {},
   "source": [
    "## Create bins, assign data points & calculate the average"
   ]
  },
  {
   "cell_type": "code",
   "execution_count": 8,
   "metadata": {
    "collapsed": false
   },
   "outputs": [
    {
     "name": "stdout",
     "output_type": "stream",
     "text": [
      "Total scan:  10\n",
      "Opened all scans.\n",
      "Start creating bins\n",
      "Number of Bins: 600\n",
      "Number of Edges: 601\n",
      "Energy range is:  60\n",
      "created bins completed.\n",
      "The width of a bin is: 0.1\n",
      "Start assigning data points into bins\n",
      "Assign data points completed\n",
      "Start calcualting Average of MCA1, MCA2, MCA3 & MCA4...\n",
      "No data point is in Bin No. 597 . Average calculation is not necessary\n",
      "\n",
      "No data point is in Bin No. 598 . Average calculation is not necessary\n",
      "\n",
      "No data point is in Bin No. 599 . Average calculation is not necessary\n",
      "\n",
      "No data point is in Bin No. 600 . Average calculation is not necessary\n",
      "\n",
      "Calculation completed.\n",
      "Start calcualting Average of I0, TEY & Diode...\n",
      "No data point is in Bin No. 597 . Average calculation is not necessary\n",
      "\n",
      "No data point is in Bin No. 598 . Average calculation is not necessary\n",
      "\n",
      "No data point is in Bin No. 599 . Average calculation is not necessary\n",
      "\n",
      "No data point is in Bin No. 600 . Average calculation is not necessary\n",
      "\n",
      "Calculation completed.\n",
      "Getting PFY ROIs\n"
     ]
    }
   ],
   "source": [
    "bins = 600\n",
    "temp_array = create_bin_assign_data (good_scan ,opened_file, 690, 750, bins , 50, 80)\n",
    "mean_energy_array = temp_array[0]\n",
    "avg_mca = temp_array[1]\n",
    "avg_scaler = temp_array[2]\n",
    "pyf_data = temp_array[3]"
   ]
  },
  {
   "cell_type": "markdown",
   "metadata": {},
   "source": [
    "## Plot Average of MCAs, I0, TEY & Diode"
   ]
  },
  {
   "cell_type": "code",
   "execution_count": 14,
   "metadata": {
    "collapsed": false
   },
   "outputs": [
    {
     "name": "stdout",
     "output_type": "stream",
     "text": [
      "Plotting XAS.\n"
     ]
    }
   ],
   "source": [
    "plotAvgXAS_all(mean_energy_array, avg_scaler, pyf_data)"
   ]
  },
  {
   "cell_type": "code",
   "execution_count": 11,
   "metadata": {
    "collapsed": false
   },
   "outputs": [],
   "source": [
    "#plot avg of Mac 2 in color scatter plot\n",
    "plotAvgOfMAC(bins, avg_mca[1])"
   ]
  },
  {
   "cell_type": "code",
   "execution_count": 13,
   "metadata": {
    "collapsed": false
   },
   "outputs": [],
   "source": [
    "plot_one_avg_scaler(mean_energy_array, avg_scaler[1], \"TEY\")"
   ]
  },
  {
   "cell_type": "code",
   "execution_count": null,
   "metadata": {
    "collapsed": true
   },
   "outputs": [],
   "source": []
  }
 ],
 "metadata": {
  "kernelspec": {
   "display_name": "Python 2",
   "language": "python",
   "name": "python2"
  },
  "language_info": {
   "codemirror_mode": {
    "name": "ipython",
    "version": 2
   },
   "file_extension": ".py",
   "mimetype": "text/x-python",
   "name": "python",
   "nbconvert_exporter": "python",
   "pygments_lexer": "ipython2",
   "version": "2.7.11"
  }
 },
 "nbformat": 4,
 "nbformat_minor": 0
}
