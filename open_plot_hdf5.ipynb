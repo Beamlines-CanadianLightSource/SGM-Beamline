{
 "cells": [
  {
   "cell_type": "code",
   "execution_count": 1,
   "metadata": {
    "collapsed": false
   },
   "outputs": [
    {
     "name": "stderr",
     "output_type": "stream",
     "text": [
      "C:\\Program Files\\Anaconda2\\lib\\site-packages\\matplotlib\\__init__.py:1350: UserWarning:  This call to matplotlib.use() has no effect\n",
      "because the backend has already been chosen;\n",
      "matplotlib.use() must be called *before* pylab, matplotlib.pyplot,\n",
      "or matplotlib.backends is imported for the first time.\n",
      "\n",
      "  warnings.warn(_use_error_msg)\n"
     ]
    }
   ],
   "source": [
    "from scripts.open_hdf5 import *\n",
    "from scripts.average_plot import *\n",
    "from scripts.summary_plot import *"
   ]
  },
  {
   "cell_type": "code",
   "execution_count": 2,
   "metadata": {
    "collapsed": false
   },
   "outputs": [
    {
     "name": "stdout",
     "output_type": "stream",
     "text": [
      "C:\\Users\\hanr\\GitHub\\SGM-Beamline\\data/spectra_example.hdf5\n"
     ]
    }
   ],
   "source": [
    "file_directory = get_abs_path(\"data/spectra_example.hdf5\")\n",
    "print file_directory"
   ]
  },
  {
   "cell_type": "code",
   "execution_count": 3,
   "metadata": {
    "collapsed": false
   },
   "outputs": [
    {
     "name": "stdout",
     "output_type": "stream",
     "text": [
      "('List of arrays in this file: \\n', [u'S1', u'S10', u'S2', u'S3', u'S4', u'S5', u'S6', u'S7', u'S8', u'S9'])\n"
     ]
    }
   ],
   "source": [
    "energy_array, mca_array, scaler_array = read_hdf5(file_directory)"
   ]
  },
  {
   "cell_type": "code",
   "execution_count": 4,
   "metadata": {
    "collapsed": false
   },
   "outputs": [
    {
     "name": "stdout",
     "output_type": "stream",
     "text": [
      "Start creating bins\n",
      "Number of Bins: 600\n",
      "Number of Edges: 601\n",
      "Energy range is:  690 - 750\n",
      "created bins completed.\n",
      "\n"
     ]
    }
   ],
   "source": [
    "edges_array, mean_energy_array = create_bins(690, 750 , 600)"
   ]
  },
  {
   "cell_type": "code",
   "execution_count": 5,
   "metadata": {
    "collapsed": false
   },
   "outputs": [
    {
     "name": "stdout",
     "output_type": "stream",
     "text": [
      "The width of a bin is: 0.1\n",
      "Start assigning data points into bins\n",
      "Assign data points completed\n"
     ]
    }
   ],
   "source": [
    "bin_array = assign_data (energy_array, edges_array)"
   ]
  },
  {
   "cell_type": "code",
   "execution_count": 12,
   "metadata": {
    "collapsed": false
   },
   "outputs": [
    {
     "name": "stdout",
     "output_type": "stream",
     "text": [
      "Start calcualting average of SDD1(MCA1), SDD2(MCA2), SDD3(MCA3) & SDD4(MCA4)...\n",
      "No data point is in Bin No. 597 . Average calculation is not necessary\n",
      "No data point is in Bin No. 598 . Average calculation is not necessary\n",
      "No data point is in Bin No. 599 . Average calculation is not necessary\n",
      "No data point is in Bin No. 600 . Average calculation is not necessary\n",
      "Calculation completed.\n",
      "\n",
      "4\n"
     ]
    }
   ],
   "source": [
    "bin_mca_result = calculate_bin_mca(bin_array, mca_array)\n",
    "mca_bin_array = bin_mca_result[:-1]\n",
    "empty_bin_num = bin_mca_result[-1]\n",
    "print empty_bin_num"
   ]
  },
  {
   "cell_type": "code",
   "execution_count": 8,
   "metadata": {
    "collapsed": false
   },
   "outputs": [
    {
     "name": "stdout",
     "output_type": "stream",
     "text": [
      "Start calcualting Average of I0, TEY & Diode...\n",
      "No data point is in Bin No. 597 . Average calculation is not necessary\n",
      "No data point is in Bin No. 598 . Average calculation is not necessary\n",
      "No data point is in Bin No. 599 . Average calculation is not necessary\n",
      "No data point is in Bin No. 600 . Average calculation is not necessary\n",
      "Calculation completed.\n",
      "\n"
     ]
    }
   ],
   "source": [
    "scaler_bin_array = calculate_bin_scalers(bin_array, scaler_array)"
   ]
  },
  {
   "cell_type": "code",
   "execution_count": 9,
   "metadata": {
    "collapsed": false
   },
   "outputs": [
    {
     "data": {
      "text/plain": [
       "596"
      ]
     },
     "execution_count": 9,
     "metadata": {},
     "output_type": "execute_result"
    }
   ],
   "source": [
    "len(scaler_bin_array[0])"
   ]
  },
  {
   "cell_type": "code",
   "execution_count": 14,
   "metadata": {
    "collapsed": false
   },
   "outputs": [],
   "source": [
    "plot_bin_xas(mean_energy_array[:-empty_bin_num], \"TEY\", scaler_bin_array)"
   ]
  },
  {
   "cell_type": "code",
   "execution_count": null,
   "metadata": {
    "collapsed": true
   },
   "outputs": [],
   "source": []
  }
 ],
 "metadata": {
  "kernelspec": {
   "display_name": "Python 2",
   "language": "python",
   "name": "python2"
  },
  "language_info": {
   "codemirror_mode": {
    "name": "ipython",
    "version": 2
   },
   "file_extension": ".py",
   "mimetype": "text/x-python",
   "name": "python",
   "nbconvert_exporter": "python",
   "pygments_lexer": "ipython2",
   "version": "2.7.11"
  }
 },
 "nbformat": 4,
 "nbformat_minor": 0
}
